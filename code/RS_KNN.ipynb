{
 "cells": [
  {
   "cell_type": "markdown",
   "metadata": {},
   "source": [
    "# Recommender Systems with Surprise\n",
    "- **Created by Andrés Segura Tinoco**\n",
    "- **Created on May 23, 2019**"
   ]
  },
  {
   "cell_type": "markdown",
   "metadata": {},
   "source": [
    "## Experiment description\n",
    "- Model built from a plain text file\n",
    "- The algorithm used is: KNNBasic\n",
    "- Model trained using the technique of cross validation (5 folds)\n",
    "- The RMSE and MAE metrics were used to estimate the model error\n",
    "- Type of filtering: collaborative"
   ]
  },
  {
   "cell_type": "code",
   "execution_count": 1,
   "metadata": {},
   "outputs": [],
   "source": [
    "# Load the Pandas libraries\n",
    "import os\n",
    "import io\n",
    "from collections import defaultdict"
   ]
  },
  {
   "cell_type": "code",
   "execution_count": 2,
   "metadata": {},
   "outputs": [],
   "source": [
    "# Load Surprise libraries\n",
    "from surprise import KNNBasic\n",
    "from surprise import Reader\n",
    "from surprise import Dataset\n",
    "from surprise import accuracy\n",
    "from surprise.model_selection import cross_validate"
   ]
  },
  {
   "cell_type": "markdown",
   "metadata": {},
   "source": [
    "## 1. Loading data"
   ]
  },
  {
   "cell_type": "code",
   "execution_count": 3,
   "metadata": {},
   "outputs": [],
   "source": [
    "# Path to dataset file\n",
    "file_path = os.path.expanduser('../data/u.data')"
   ]
  },
  {
   "cell_type": "code",
   "execution_count": 4,
   "metadata": {},
   "outputs": [],
   "source": [
    "# Read the data into a Surprise dataset\n",
    "reader = Reader(line_format = 'user item rating timestamp', sep = '\\t', rating_scale = (1, 5))\n",
    "data = Dataset.load_from_file(file_path, reader = reader)"
   ]
  },
  {
   "cell_type": "markdown",
   "metadata": {},
   "source": [
    "## 2. Train the model and measure its error"
   ]
  },
  {
   "cell_type": "markdown",
   "metadata": {},
   "source": [
    "A basic collaborative filtering algorithm. The prediction $\\hat{r}_{ui}$ is set as:"
   ]
  },
  {
   "cell_type": "markdown",
   "metadata": {},
   "source": [
    "$$ \\hat{r}_{ui} = \\frac{ \\sum_{v \\in N_{i}^{k}(u)} {sim(u,v) . r_{vi}} }{ \\sum_{v \\in N_{i}^{k}(u)} {sim(u,v) } } \\tag{1} $$"
   ]
  },
  {
   "cell_type": "code",
   "execution_count": 5,
   "metadata": {},
   "outputs": [],
   "source": [
    "# Use k-NN inspired algorithms\n",
    "kk = 50\n",
    "sim_options = {'name': 'cosine', 'user_based': True}\n",
    "algo = KNNBasic(k = kk, sim_options = sim_options, verbose = True)"
   ]
  },
  {
   "cell_type": "code",
   "execution_count": 6,
   "metadata": {},
   "outputs": [
    {
     "name": "stdout",
     "output_type": "stream",
     "text": [
      "Computing the cosine similarity matrix...\n",
      "Done computing similarity matrix.\n",
      "Computing the cosine similarity matrix...\n",
      "Done computing similarity matrix.\n",
      "Computing the cosine similarity matrix...\n",
      "Done computing similarity matrix.\n",
      "Computing the cosine similarity matrix...\n",
      "Done computing similarity matrix.\n",
      "Computing the cosine similarity matrix...\n",
      "Done computing similarity matrix.\n",
      "Evaluating RMSE, MAE of algorithm KNNBasic on 5 split(s).\n",
      "\n",
      "                  Fold 1  Fold 2  Fold 3  Fold 4  Fold 5  Mean    Std     \n",
      "RMSE (testset)    1.0138  1.0207  1.0097  1.0247  1.0127  1.0163  0.0055  \n",
      "MAE (testset)     0.8000  0.8095  0.7967  0.8100  0.8038  0.8040  0.0052  \n",
      "Fit time          3.14    2.26    2.23    2.26    2.23    2.42    0.36    \n",
      "Test time         5.74    5.01    4.97    5.02    4.99    5.15    0.30    \n"
     ]
    }
   ],
   "source": [
    "# Run 5-fold cross-validation and print results\n",
    "cv = cross_validate(algo, data, measures = ['RMSE', 'MAE'], cv = 5, verbose = True)"
   ]
  },
  {
   "cell_type": "markdown",
   "metadata": {},
   "source": [
    "## 3. Make some predictions"
   ]
  },
  {
   "cell_type": "code",
   "execution_count": 7,
   "metadata": {},
   "outputs": [
    {
     "name": "stdout",
     "output_type": "stream",
     "text": [
      "user: 13         item: 181        r_ui = None   est = 4.20   {'actual_k': 50, 'was_impossible': False}\n"
     ]
    }
   ],
   "source": [
    "# Without real rating\n",
    "p1 = algo.predict(uid = '13', iid = '181', verbose = True)"
   ]
  },
  {
   "cell_type": "code",
   "execution_count": 8,
   "metadata": {},
   "outputs": [
    {
     "name": "stdout",
     "output_type": "stream",
     "text": [
      "user: 196        item: 302        r_ui = 4.00   est = 4.14   {'actual_k': 50, 'was_impossible': False}\n"
     ]
    }
   ],
   "source": [
    "# With real rating\n",
    "p2 = algo.predict(uid = '196', iid = '302', r_ui = 4, verbose = True)"
   ]
  },
  {
   "cell_type": "markdown",
   "metadata": {},
   "source": [
    "## 4. Get the k nearest neighbors of an item."
   ]
  },
  {
   "cell_type": "code",
   "execution_count": 9,
   "metadata": {},
   "outputs": [],
   "source": [
    "# Return two mappings to convert raw ids into movie names and movie names into raw ids\n",
    "def read_item_names(file_path):\n",
    "    rid_to_name = {}\n",
    "    name_to_rid = {}\n",
    "    \n",
    "    with io.open(file_path, 'r', encoding = 'ISO-8859-1') as f:\n",
    "        for line in f:\n",
    "            line = line.split('|')\n",
    "            rid_to_name[line[0]] = line[1]\n",
    "            name_to_rid[line[1]] = line[0]\n",
    "    \n",
    "    return rid_to_name, name_to_rid"
   ]
  },
  {
   "cell_type": "code",
   "execution_count": 10,
   "metadata": {},
   "outputs": [],
   "source": [
    "# Read the mappings raw id <-> movie name\n",
    "item_filepath = '../data/u.item'\n",
    "rid_to_name, name_to_rid = read_item_names(item_filepath)"
   ]
  },
  {
   "cell_type": "code",
   "execution_count": 11,
   "metadata": {},
   "outputs": [],
   "source": [
    "# Target movie\n",
    "target_movie = 'Toy Story (1995)'"
   ]
  },
  {
   "cell_type": "code",
   "execution_count": 12,
   "metadata": {},
   "outputs": [
    {
     "name": "stdout",
     "output_type": "stream",
     "text": [
      "Toy Story (1995): 316\n"
     ]
    }
   ],
   "source": [
    "# Retrieve inner id of the movie Toy Story\n",
    "toy_story_raw_id = name_to_rid[target_movie]\n",
    "toy_story_inner_id = algo.trainset.to_inner_iid(toy_story_raw_id)\n",
    "print(target_movie + ':', toy_story_inner_id)"
   ]
  },
  {
   "cell_type": "code",
   "execution_count": 13,
   "metadata": {},
   "outputs": [
    {
     "data": {
      "text/plain": [
       "[31, 69, 100, 131, 139, 143, 145, 166, 175, 243]"
      ]
     },
     "execution_count": 13,
     "metadata": {},
     "output_type": "execute_result"
    }
   ],
   "source": [
    "# Retrieve inner ids of the nearest neighbors of Toy Story\n",
    "toy_story_neighbors = algo.get_neighbors(toy_story_inner_id, k = 10)\n",
    "toy_story_neighbors"
   ]
  },
  {
   "cell_type": "code",
   "execution_count": 14,
   "metadata": {},
   "outputs": [
    {
     "name": "stdout",
     "output_type": "stream",
     "text": [
      "The movies most similar to 'Toy Story (1995) are:\n",
      "510 - Magnificent Seven, The (1954)\n",
      "22 - Braveheart (1995)\n",
      "811 - Thirty-Two Short Films About Glenn Gould (1993)\n",
      "63 - Santa Clause, The (1994)\n",
      "919 - City of Lost Children, The (1995)\n",
      "678 - Volcano (1997)\n",
      "71 - Lion King, The (1994)\n",
      "760 - Screamers (1995)\n",
      "319 - Everyone Says I Love You (1996)\n",
      "685 - Executive Decision (1996)\n"
     ]
    }
   ],
   "source": [
    "# The 10 nearest neighbors of Toy Story are:\n",
    "print(\"The movies most similar to '\" + target_movie + \" are:\")\n",
    "\n",
    "for inner_id in toy_story_neighbors:\n",
    "    raw_id = algo.trainset.to_raw_iid(inner_id)\n",
    "    movie = rid_to_name[raw_id]\n",
    "    print(raw_id, '-', movie)"
   ]
  },
  {
   "cell_type": "markdown",
   "metadata": {},
   "source": [
    "## 5. Get the top-N recommendations"
   ]
  },
  {
   "cell_type": "code",
   "execution_count": 15,
   "metadata": {},
   "outputs": [],
   "source": [
    "# Return the top-N recommendation for each user from a set of predictions.\n",
    "def get_top_n(predictions, n = 10):\n",
    "    \n",
    "    # First map the predictions to each user.\n",
    "    top_n = defaultdict(list)\n",
    "    for uid, iid, true_r, est, _ in predictions:\n",
    "        top_n[uid].append((iid, est))\n",
    "        \n",
    "    # Then sort the predictions for each user and retrieve the k highest ones.\n",
    "    for uid, user_ratings in top_n.items():\n",
    "        user_ratings.sort(key=lambda x: x[1], reverse=True)\n",
    "        top_n[uid] = user_ratings[:n]\n",
    "    \n",
    "    return top_n"
   ]
  },
  {
   "cell_type": "code",
   "execution_count": 16,
   "metadata": {},
   "outputs": [
    {
     "name": "stdout",
     "output_type": "stream",
     "text": [
      "Computing the cosine similarity matrix...\n",
      "Done computing similarity matrix.\n",
      "RMSE: 0.9255\n"
     ]
    },
    {
     "data": {
      "text/plain": [
       "0.9254759689787458"
      ]
     },
     "execution_count": 16,
     "metadata": {},
     "output_type": "execute_result"
    }
   ],
   "source": [
    "# Create train_set and test_set\n",
    "train_set = data.build_full_trainset()\n",
    "test_set = train_set.build_anti_testset()\n",
    "\n",
    "# First train a KNN algorithm on the whole dataset\n",
    "algo.fit(train_set)\n",
    "predictions = algo.test(test_set)\n",
    "\n",
    "# RMSE should be low as we are biased\n",
    "accuracy.rmse(predictions, verbose = True)"
   ]
  },
  {
   "cell_type": "code",
   "execution_count": 17,
   "metadata": {},
   "outputs": [],
   "source": [
    "# Than predict ratings for all pairs (u, i) that are NOT in the training set\n",
    "top_n = 10\n",
    "top_pred = get_top_n(predictions, n = top_n)"
   ]
  },
  {
   "cell_type": "code",
   "execution_count": 18,
   "metadata": {},
   "outputs": [
    {
     "name": "stdout",
     "output_type": "stream",
     "text": [
      "Movie: 1189 - Prefontaine (1997) , rating: 5\n",
      "Movie: 1500 - Santa with Muscles (1996) , rating: 5\n",
      "Movie: 814 - Great Day in Harlem, A (1994) , rating: 5\n",
      "Movie: 1536 - Aiqing wansui (1994) , rating: 5\n",
      "Movie: 1293 - Star Kid (1997) , rating: 5\n",
      "Movie: 1599 - Someone Else's America (1995) , rating: 5\n",
      "Movie: 1653 - Entertaining Angels: The Dorothy Day Story (1996) , rating: 5\n",
      "Movie: 1467 - Saint of Fort Washington, The (1993) , rating: 5\n",
      "Movie: 1122 - They Made Me a Criminal (1939) , rating: 5\n",
      "Movie: 1201 - Marlene Dietrich: Shadow and Light (1996)  , rating: 5\n"
     ]
    }
   ],
   "source": [
    "# User raw Id\n",
    "uid_list = ['196']\n",
    "\n",
    "# Print the recommended items for a specific user\n",
    "for uid, user_ratings in top_pred.items():\n",
    "    if uid in uid_list:\n",
    "        for (iid, rating) in user_ratings:\n",
    "            movie = rid_to_name[iid]\n",
    "            print('Movie:', iid, '-', movie, ', rating:', str(rating))"
   ]
  },
  {
   "cell_type": "markdown",
   "metadata": {},
   "source": [
    "---\n",
    "<a href=\"https://ansegura7.github.io/RS_Surprise/\">&laquo; Home</a>"
   ]
  }
 ],
 "metadata": {
  "kernelspec": {
   "display_name": "Python 3",
   "language": "python",
   "name": "python3"
  },
  "language_info": {
   "codemirror_mode": {
    "name": "ipython",
    "version": 3
   },
   "file_extension": ".py",
   "mimetype": "text/x-python",
   "name": "python",
   "nbconvert_exporter": "python",
   "pygments_lexer": "ipython3",
   "version": "3.6.8"
  }
 },
 "nbformat": 4,
 "nbformat_minor": 2
}
