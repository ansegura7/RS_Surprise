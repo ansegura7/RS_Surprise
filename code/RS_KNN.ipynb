{
 "cells": [
  {
   "cell_type": "markdown",
   "metadata": {},
   "source": [
    "# Recommender Systems with Surprise\n",
    "- **Created by Andrés Segura Tinoco**\n",
    "- **Created on May 23, 2019**"
   ]
  },
  {
   "cell_type": "markdown",
   "metadata": {},
   "source": [
    "## Experiment description\n",
    "- Model built from a plain text file\n",
    "- The algorithm used is: KNNBasic\n",
    "- Model trained using the technique of cross validation (5 folds)\n",
    "- The RMSE and MAE metrics were used to estimate the model error\n",
    "- Type of filtering: collaborative"
   ]
  },
  {
   "cell_type": "code",
   "execution_count": 1,
   "metadata": {},
   "outputs": [],
   "source": [
    "# Load the Pandas libraries\n",
    "import os\n",
    "import io"
   ]
  },
  {
   "cell_type": "code",
   "execution_count": 2,
   "metadata": {},
   "outputs": [],
   "source": [
    "# Load Surprise libraries\n",
    "from surprise import KNNBasic\n",
    "from surprise import Reader\n",
    "from surprise import Dataset\n",
    "from surprise.model_selection import cross_validate"
   ]
  },
  {
   "cell_type": "markdown",
   "metadata": {},
   "source": [
    "## 1. Loading data"
   ]
  },
  {
   "cell_type": "code",
   "execution_count": 3,
   "metadata": {},
   "outputs": [],
   "source": [
    "# Path to dataset file\n",
    "file_path = os.path.expanduser('../data/u.data')"
   ]
  },
  {
   "cell_type": "code",
   "execution_count": 4,
   "metadata": {},
   "outputs": [],
   "source": [
    "# Read the data into a Surprise dataset\n",
    "reader = Reader(line_format = 'user item rating timestamp', sep = '\\t', rating_scale = (1, 5))\n",
    "data = Dataset.load_from_file(file_path, reader = reader)"
   ]
  },
  {
   "cell_type": "markdown",
   "metadata": {},
   "source": [
    "## 2. Train the model and measure its error"
   ]
  },
  {
   "cell_type": "code",
   "execution_count": 5,
   "metadata": {},
   "outputs": [],
   "source": [
    "# Use k-NN inspired algorithms\n",
    "kk = 50\n",
    "algo = KNNBasic(k = kk, verbose = True)"
   ]
  },
  {
   "cell_type": "code",
   "execution_count": 6,
   "metadata": {},
   "outputs": [
    {
     "name": "stdout",
     "output_type": "stream",
     "text": [
      "Computing the msd similarity matrix...\n",
      "Done computing similarity matrix.\n",
      "Computing the msd similarity matrix...\n",
      "Done computing similarity matrix.\n",
      "Computing the msd similarity matrix...\n",
      "Done computing similarity matrix.\n",
      "Computing the msd similarity matrix...\n",
      "Done computing similarity matrix.\n",
      "Computing the msd similarity matrix...\n",
      "Done computing similarity matrix.\n",
      "Evaluating RMSE, MAE of algorithm KNNBasic on 5 split(s).\n",
      "\n",
      "                  Fold 1  Fold 2  Fold 3  Fold 4  Fold 5  Mean    Std     \n",
      "RMSE (testset)    0.9797  0.9879  0.9828  0.9768  0.9810  0.9816  0.0037  \n",
      "MAE (testset)     0.7737  0.7785  0.7783  0.7707  0.7777  0.7758  0.0031  \n",
      "Fit time          0.68    0.67    0.67    0.85    0.82    0.74    0.08    \n",
      "Test time         4.59    5.29    4.98    5.43    5.68    5.19    0.38    \n"
     ]
    }
   ],
   "source": [
    "# Run 5-fold cross-validation and print results\n",
    "cv = cross_validate(algo, data, measures = ['RMSE', 'MAE'], cv = 5, verbose = True)"
   ]
  },
  {
   "cell_type": "markdown",
   "metadata": {},
   "source": [
    "## 3. Make predictions"
   ]
  },
  {
   "cell_type": "code",
   "execution_count": 7,
   "metadata": {},
   "outputs": [
    {
     "name": "stdout",
     "output_type": "stream",
     "text": [
      "user: 13         item: 181        r_ui = None   est = 4.30   {'actual_k': 50, 'was_impossible': False}\n"
     ]
    }
   ],
   "source": [
    "# Without real rating\n",
    "p1 = algo.predict(uid = '13', iid = '181', verbose = True)"
   ]
  },
  {
   "cell_type": "code",
   "execution_count": 8,
   "metadata": {},
   "outputs": [
    {
     "name": "stdout",
     "output_type": "stream",
     "text": [
      "user: 196        item: 302        r_ui = 4.00   est = 4.21   {'actual_k': 50, 'was_impossible': False}\n"
     ]
    }
   ],
   "source": [
    "# With real rating\n",
    "p2 = algo.predict(uid = '196', iid = '302', r_ui = 4, verbose = True)"
   ]
  },
  {
   "cell_type": "markdown",
   "metadata": {},
   "source": [
    "## 4. Get the k nearest neighbors of a item"
   ]
  },
  {
   "cell_type": "code",
   "execution_count": 9,
   "metadata": {},
   "outputs": [],
   "source": [
    "# Read the u.item file from MovieLens 100-k dataset and return two\n",
    "#    mappings to convert raw ids into movie names and movie names into raw ids\n",
    "def read_item_names(file_path):\n",
    "    rid_to_name = {}\n",
    "    name_to_rid = {}\n",
    "    \n",
    "    with io.open(file_path, 'r', encoding = 'ISO-8859-1') as f:\n",
    "        for line in f:\n",
    "            line = line.split('|')\n",
    "            rid_to_name[line[0]] = line[1]\n",
    "            name_to_rid[line[1]] = line[0]\n",
    "    \n",
    "    return rid_to_name, name_to_rid"
   ]
  },
  {
   "cell_type": "code",
   "execution_count": 10,
   "metadata": {},
   "outputs": [],
   "source": [
    "# Read the mappings raw id <-> movie name\n",
    "item_filepath = '../data/u.item'\n",
    "rid_to_name, name_to_rid = read_item_names(item_filepath)"
   ]
  },
  {
   "cell_type": "code",
   "execution_count": 11,
   "metadata": {},
   "outputs": [
    {
     "name": "stdout",
     "output_type": "stream",
     "text": [
      "Toy Story (1995): 283\n"
     ]
    }
   ],
   "source": [
    "# Retrieve inner id of the movie Toy Story\n",
    "toy_story_raw_id = name_to_rid['Toy Story (1995)']\n",
    "toy_story_inner_id = algo.trainset.to_inner_iid(toy_story_raw_id)\n",
    "print('Toy Story (1995):', toy_story_inner_id)"
   ]
  },
  {
   "cell_type": "code",
   "execution_count": 12,
   "metadata": {},
   "outputs": [
    {
     "data": {
      "text/plain": [
       "[142, 166, 214, 254, 417, 458, 567, 597, 636, 641]"
      ]
     },
     "execution_count": 12,
     "metadata": {},
     "output_type": "execute_result"
    }
   ],
   "source": [
    "# Retrieve inner ids of the nearest neighbors of Toy Story\n",
    "toy_story_neighbors = algo.get_neighbors(toy_story_inner_id, k = 10)\n",
    "toy_story_neighbors"
   ]
  },
  {
   "cell_type": "code",
   "execution_count": 13,
   "metadata": {},
   "outputs": [
    {
     "name": "stdout",
     "output_type": "stream",
     "text": [
      "346 - Jackie Brown (1997)\n",
      "416 - Old Yeller (1957)\n",
      "90 - So I Married an Axe Murderer (1993)\n",
      "298 - Face/Off (1997)\n",
      "8 - Babe (1995)\n",
      "193 - Right Stuff, The (1983)\n",
      "485 - My Fair Lady (1964)\n",
      "223 - Sling Blade (1996)\n",
      "630 - Great Race, The (1965)\n",
      "99 - Snow White and the Seven Dwarfs (1937)\n"
     ]
    }
   ],
   "source": [
    "# The 10 nearest neighbors of Toy Story are:\n",
    "for inner_id in toy_story_neighbors:\n",
    "    raw_id = algo.trainset.to_raw_iid(inner_id)\n",
    "    movie = rid_to_name[raw_id]\n",
    "    print(raw_id, '-', movie)"
   ]
  },
  {
   "cell_type": "markdown",
   "metadata": {},
   "source": [
    "---\n",
    "<a href=\"https://ansegura7.github.io/RS_Surprise/\">&laquo; Home</a>"
   ]
  }
 ],
 "metadata": {
  "kernelspec": {
   "display_name": "Python 3",
   "language": "python",
   "name": "python3"
  },
  "language_info": {
   "codemirror_mode": {
    "name": "ipython",
    "version": 3
   },
   "file_extension": ".py",
   "mimetype": "text/x-python",
   "name": "python",
   "nbconvert_exporter": "python",
   "pygments_lexer": "ipython3",
   "version": "3.6.8"
  }
 },
 "nbformat": 4,
 "nbformat_minor": 2
}
