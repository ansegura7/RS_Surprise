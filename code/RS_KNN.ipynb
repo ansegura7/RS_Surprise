{
 "cells": [
  {
   "cell_type": "markdown",
   "metadata": {},
   "source": [
    "# Recommender Systems with Surprise\n",
    "- **Created by Andrés Segura Tinoco**\n",
    "- **Created on May 23, 2019**"
   ]
  },
  {
   "cell_type": "markdown",
   "metadata": {},
   "source": [
    "## Experiment description\n",
    "- Model built from a plain text file\n",
    "- The algorithm used is: KNNBasic\n",
    "- Model trained using the technique of cross validation (5 folds)\n",
    "- The RMSE and MAE metrics were used to estimate the model error\n",
    "- Type of filtering: collaborative"
   ]
  },
  {
   "cell_type": "code",
   "execution_count": 1,
   "metadata": {},
   "outputs": [],
   "source": [
    "# Load the Pandas libraries\n",
    "import os"
   ]
  },
  {
   "cell_type": "code",
   "execution_count": 2,
   "metadata": {},
   "outputs": [],
   "source": [
    "# Load Surprise libraries\n",
    "from surprise import KNNBasic\n",
    "from surprise import Reader\n",
    "from surprise import Dataset\n",
    "from surprise.model_selection import cross_validate"
   ]
  },
  {
   "cell_type": "markdown",
   "metadata": {},
   "source": [
    "## 1. Loading data"
   ]
  },
  {
   "cell_type": "code",
   "execution_count": 3,
   "metadata": {},
   "outputs": [],
   "source": [
    "# Path to dataset file\n",
    "file_path = os.path.expanduser('../data/u.data')"
   ]
  },
  {
   "cell_type": "code",
   "execution_count": 4,
   "metadata": {},
   "outputs": [],
   "source": [
    "# Read the data into a Surprise dataset\n",
    "reader = Reader(line_format = 'user item rating timestamp', sep = '\\t', rating_scale = (1, 5))\n",
    "data = Dataset.load_from_file(file_path, reader = reader)"
   ]
  },
  {
   "cell_type": "markdown",
   "metadata": {},
   "source": [
    "## 2. Train the model and measure its error"
   ]
  },
  {
   "cell_type": "code",
   "execution_count": 5,
   "metadata": {},
   "outputs": [],
   "source": [
    "# Use k-NN inspired algorithms\n",
    "kk = 50\n",
    "algo = KNNBasic(k = kk, verbose = True)"
   ]
  },
  {
   "cell_type": "code",
   "execution_count": 6,
   "metadata": {},
   "outputs": [
    {
     "name": "stdout",
     "output_type": "stream",
     "text": [
      "Computing the msd similarity matrix...\n",
      "Done computing similarity matrix.\n",
      "Computing the msd similarity matrix...\n",
      "Done computing similarity matrix.\n",
      "Computing the msd similarity matrix...\n",
      "Done computing similarity matrix.\n",
      "Computing the msd similarity matrix...\n",
      "Done computing similarity matrix.\n",
      "Computing the msd similarity matrix...\n",
      "Done computing similarity matrix.\n",
      "Evaluating RMSE, MAE of algorithm KNNBasic on 5 split(s).\n",
      "\n",
      "                  Fold 1  Fold 2  Fold 3  Fold 4  Fold 5  Mean    Std     \n",
      "RMSE (testset)    0.9804  0.9862  0.9805  0.9816  0.9773  0.9812  0.0029  \n",
      "MAE (testset)     0.7724  0.7790  0.7770  0.7759  0.7729  0.7754  0.0025  \n",
      "Fit time          0.62    0.64    0.77    0.67    0.70    0.68    0.05    \n",
      "Test time         4.76    6.51    6.05    5.75    6.71    5.96    0.69    \n"
     ]
    }
   ],
   "source": [
    "# Run 5-fold cross-validation and print results\n",
    "cv = cross_validate(algo, data, measures = ['RMSE', 'MAE'], cv = 5, verbose = True)"
   ]
  },
  {
   "cell_type": "markdown",
   "metadata": {},
   "source": [
    "## 3. Make predictions"
   ]
  },
  {
   "cell_type": "code",
   "execution_count": 7,
   "metadata": {},
   "outputs": [
    {
     "name": "stdout",
     "output_type": "stream",
     "text": [
      "user: 13         item: 181        r_ui = None   est = 4.32   {'actual_k': 50, 'was_impossible': False}\n"
     ]
    }
   ],
   "source": [
    "# Without real rating\n",
    "p1 = algo.predict(uid = '13', iid = '181', verbose = True)"
   ]
  },
  {
   "cell_type": "code",
   "execution_count": 8,
   "metadata": {},
   "outputs": [
    {
     "name": "stdout",
     "output_type": "stream",
     "text": [
      "user: 196        item: 302        r_ui = 4.00   est = 4.04   {'actual_k': 50, 'was_impossible': False}\n"
     ]
    }
   ],
   "source": [
    "# With real rating\n",
    "p2 = algo.predict(uid = '196', iid = '302', r_ui = 4, verbose = True)"
   ]
  },
  {
   "cell_type": "markdown",
   "metadata": {},
   "source": [
    "---\n",
    "<a href=\"https://ansegura7.github.io/RS_Surprise/\">&laquo; Home</a>"
   ]
  }
 ],
 "metadata": {
  "kernelspec": {
   "display_name": "Python 3",
   "language": "python",
   "name": "python3"
  },
  "language_info": {
   "codemirror_mode": {
    "name": "ipython",
    "version": 3
   },
   "file_extension": ".py",
   "mimetype": "text/x-python",
   "name": "python",
   "nbconvert_exporter": "python",
   "pygments_lexer": "ipython3",
   "version": "3.6.8"
  }
 },
 "nbformat": 4,
 "nbformat_minor": 2
}
