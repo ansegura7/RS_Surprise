{
 "cells": [
  {
   "cell_type": "markdown",
   "metadata": {},
   "source": [
    "# Recommender Systems with Surprise\n",
    "- **Created by Andrés Segura Tinoco**\n",
    "- **Created on May 27, 2019**"
   ]
  },
  {
   "cell_type": "markdown",
   "metadata": {},
   "source": [
    "## Tune algorithm parameters\n",
    "- Model built from a Pandas dataframe\n",
    "- The algorithm used is: Singular Value Decomposition (SVD)\n",
    "- Model trained using train and test datasets (80/20) and cross-validation\n",
    "- The RMSE and MAE metrics were used to estimate the model error\n",
    "- Type of filtering: collaborative"
   ]
  },
  {
   "cell_type": "code",
   "execution_count": 1,
   "metadata": {},
   "outputs": [],
   "source": [
    "# Load the Python libraries\n",
    "import os\n",
    "import pandas as pd\n",
    "import numpy as np\n",
    "from collections import defaultdict\n",
    "from sklearn.model_selection import train_test_split"
   ]
  },
  {
   "cell_type": "code",
   "execution_count": 2,
   "metadata": {},
   "outputs": [],
   "source": [
    "# Load Surprise libraries\n",
    "from surprise import SVD\n",
    "from surprise import Reader\n",
    "from surprise import Dataset\n",
    "from surprise import accuracy\n",
    "from surprise.model_selection import GridSearchCV"
   ]
  },
  {
   "cell_type": "code",
   "execution_count": 3,
   "metadata": {},
   "outputs": [],
   "source": [
    "# Load plotting libraries\n",
    "import matplotlib.pyplot as plt\n",
    "import seaborn as sns"
   ]
  },
  {
   "cell_type": "code",
   "execution_count": 4,
   "metadata": {},
   "outputs": [
    {
     "data": {
      "text/html": [
       "<div>\n",
       "<style scoped>\n",
       "    .dataframe tbody tr th:only-of-type {\n",
       "        vertical-align: middle;\n",
       "    }\n",
       "\n",
       "    .dataframe tbody tr th {\n",
       "        vertical-align: top;\n",
       "    }\n",
       "\n",
       "    .dataframe thead th {\n",
       "        text-align: right;\n",
       "    }\n",
       "</style>\n",
       "<table border=\"1\" class=\"dataframe\">\n",
       "  <thead>\n",
       "    <tr style=\"text-align: right;\">\n",
       "      <th></th>\n",
       "      <th>user_id</th>\n",
       "      <th>item_id</th>\n",
       "      <th>rating</th>\n",
       "      <th>timestamp</th>\n",
       "    </tr>\n",
       "  </thead>\n",
       "  <tbody>\n",
       "    <tr>\n",
       "      <th>0</th>\n",
       "      <td>196</td>\n",
       "      <td>242</td>\n",
       "      <td>3</td>\n",
       "      <td>881250949</td>\n",
       "    </tr>\n",
       "    <tr>\n",
       "      <th>1</th>\n",
       "      <td>186</td>\n",
       "      <td>302</td>\n",
       "      <td>3</td>\n",
       "      <td>891717742</td>\n",
       "    </tr>\n",
       "    <tr>\n",
       "      <th>2</th>\n",
       "      <td>22</td>\n",
       "      <td>377</td>\n",
       "      <td>1</td>\n",
       "      <td>878887116</td>\n",
       "    </tr>\n",
       "    <tr>\n",
       "      <th>3</th>\n",
       "      <td>244</td>\n",
       "      <td>51</td>\n",
       "      <td>2</td>\n",
       "      <td>880606923</td>\n",
       "    </tr>\n",
       "    <tr>\n",
       "      <th>4</th>\n",
       "      <td>166</td>\n",
       "      <td>346</td>\n",
       "      <td>1</td>\n",
       "      <td>886397596</td>\n",
       "    </tr>\n",
       "  </tbody>\n",
       "</table>\n",
       "</div>"
      ],
      "text/plain": [
       "   user_id  item_id  rating  timestamp\n",
       "0      196      242       3  881250949\n",
       "1      186      302       3  891717742\n",
       "2       22      377       1  878887116\n",
       "3      244       51       2  880606923\n",
       "4      166      346       1  886397596"
      ]
     },
     "execution_count": 4,
     "metadata": {},
     "output_type": "execute_result"
    }
   ],
   "source": [
    "# Path to dataset file\n",
    "file_path = os.path.expanduser('../data/u.data')\n",
    "\n",
    "# Read current ratings of the users\n",
    "rawdata = pd.read_csv(file_path, sep = '\\t', names = ['user_id','item_id','rating','timestamp'])\n",
    "rawdata.head()"
   ]
  },
  {
   "cell_type": "markdown",
   "metadata": {},
   "source": [
    "## 1. Manual Tune"
   ]
  },
  {
   "cell_type": "code",
   "execution_count": 5,
   "metadata": {},
   "outputs": [
    {
     "name": "stdout",
     "output_type": "stream",
     "text": [
      "Train size: (80000, 4)\n",
      "Test size: (20000, 4)\n"
     ]
    }
   ],
   "source": [
    "# Split data in training and test\n",
    "train_data, test_data = train_test_split(rawdata, test_size = 0.2)\n",
    "print(\"Train size:\", train_data.shape)    # 80.00%\n",
    "print(\"Test size:\", test_data.shape)      # 20.00%"
   ]
  },
  {
   "cell_type": "code",
   "execution_count": 6,
   "metadata": {},
   "outputs": [],
   "source": [
    "# Read the data into a Surprise dataset\n",
    "reader = Reader(rating_scale = (1, 5))\n",
    "data_train = Dataset.load_from_df(train_data[['user_id', 'item_id', 'rating']], reader)\n",
    "data_test = Dataset.load_from_df(test_data[['user_id', 'item_id', 'rating']], reader)"
   ]
  },
  {
   "cell_type": "code",
   "execution_count": 7,
   "metadata": {},
   "outputs": [],
   "source": [
    "# Build full trainset\n",
    "data_train = data_train.build_full_trainset()\n",
    "data_test = data_test.build_full_trainset()\n",
    "\n",
    "# Create the trainset and testset\n",
    "data_trainset = data_train.build_testset()\n",
    "data_testset = data_test.build_testset()"
   ]
  },
  {
   "cell_type": "code",
   "execution_count": 8,
   "metadata": {},
   "outputs": [],
   "source": [
    "# Plot the model RMSE\n",
    "def plot_model_rmse(xs, ys, title, x_label, y_label):\n",
    "    # Set up the matplotlib figure\n",
    "    fig, ax = plt.subplots(figsize = (10, 5))\n",
    "    ax.plot(xs, ys, marker = 'o')\n",
    "    \n",
    "    for x,y in zip(xs,ys):\n",
    "        label = \"{:.2f}\".format(y)\n",
    "        plt.annotate(label, (x,y), textcoords=\"offset points\", xytext=(0,10), ha='center')\n",
    "    \n",
    "    plt.title(title, fontsize = 12)\n",
    "    plt.xlabel(x_label, fontsize = 10)\n",
    "    plt.ylabel(y_label, fontsize = 10)\n",
    "    plt.draw()"
   ]
  },
  {
   "cell_type": "markdown",
   "metadata": {},
   "source": [
    "**Number of factors (k)**"
   ]
  },
  {
   "cell_type": "code",
   "execution_count": 9,
   "metadata": {},
   "outputs": [],
   "source": [
    "# Factors list\n",
    "k_factors = [5, 10, 25, 50, 75, 100]"
   ]
  },
  {
   "cell_type": "code",
   "execution_count": 10,
   "metadata": {},
   "outputs": [],
   "source": [
    "# CV results\n",
    "train_rmse = []\n",
    "test_rmse = []\n",
    "\n",
    "# Loop in which errors are calculated\n",
    "for k in k_factors:\n",
    "    algo = SVD(n_factors=k, n_epochs=200, biased=True, lr_all=0.005, reg_all=0, init_mean=0, init_std_dev=0.01, verbose=False)\n",
    "    algo.fit(data_train)\n",
    "    \n",
    "    # The error of the training data is calculated and saved\n",
    "    predictions = algo.test(data_trainset)\n",
    "    error = accuracy.rmse(predictions, verbose = False)\n",
    "    train_rmse.append(error)\n",
    "    \n",
    "    # The error of the testing data is calculated and saved\n",
    "    predictions_test = algo.test(data_testset)\n",
    "    error = accuracy.rmse(predictions_test, verbose = False)\n",
    "    test_rmse.append(error)"
   ]
  },
  {
   "cell_type": "code",
   "execution_count": 11,
   "metadata": {},
   "outputs": [
    {
     "data": {
      "text/html": [
       "<div>\n",
       "<style scoped>\n",
       "    .dataframe tbody tr th:only-of-type {\n",
       "        vertical-align: middle;\n",
       "    }\n",
       "\n",
       "    .dataframe tbody tr th {\n",
       "        vertical-align: top;\n",
       "    }\n",
       "\n",
       "    .dataframe thead th {\n",
       "        text-align: right;\n",
       "    }\n",
       "</style>\n",
       "<table border=\"1\" class=\"dataframe\">\n",
       "  <thead>\n",
       "    <tr style=\"text-align: right;\">\n",
       "      <th></th>\n",
       "      <th>k</th>\n",
       "      <th>error</th>\n",
       "    </tr>\n",
       "  </thead>\n",
       "  <tbody>\n",
       "    <tr>\n",
       "      <th>0</th>\n",
       "      <td>5</td>\n",
       "      <td>0.746269</td>\n",
       "    </tr>\n",
       "    <tr>\n",
       "      <th>1</th>\n",
       "      <td>10</td>\n",
       "      <td>0.646057</td>\n",
       "    </tr>\n",
       "    <tr>\n",
       "      <th>2</th>\n",
       "      <td>25</td>\n",
       "      <td>0.421978</td>\n",
       "    </tr>\n",
       "    <tr>\n",
       "      <th>3</th>\n",
       "      <td>50</td>\n",
       "      <td>0.205627</td>\n",
       "    </tr>\n",
       "    <tr>\n",
       "      <th>4</th>\n",
       "      <td>75</td>\n",
       "      <td>0.097156</td>\n",
       "    </tr>\n",
       "    <tr>\n",
       "      <th>5</th>\n",
       "      <td>100</td>\n",
       "      <td>0.049158</td>\n",
       "    </tr>\n",
       "  </tbody>\n",
       "</table>\n",
       "</div>"
      ],
      "text/plain": [
       "     k     error\n",
       "0    5  0.746269\n",
       "1   10  0.646057\n",
       "2   25  0.421978\n",
       "3   50  0.205627\n",
       "4   75  0.097156\n",
       "5  100  0.049158"
      ]
     },
     "execution_count": 11,
     "metadata": {},
     "output_type": "execute_result"
    }
   ],
   "source": [
    "# Train RMSE dataframe\n",
    "error_data = {'k': k_factors, 'error': train_rmse}\n",
    "pd.DataFrame(error_data)"
   ]
  },
  {
   "cell_type": "code",
   "execution_count": 12,
   "metadata": {},
   "outputs": [
    {
     "data": {
      "image/png": "[encoded data removed]",
      "text/plain": [
       "<Figure size 720x360 with 1 Axes>"
      ]
     },
     "metadata": {
      "needs_background": "light"
     },
     "output_type": "display_data"
    }
   ],
   "source": [
    "# Plotting the RMSE behaviour\n",
    "plot_model_rmse(error_data['k'], error_data['error'], 'Train Model Errors', 'k', 'rmse')"
   ]
  },
  {
   "cell_type": "code",
   "execution_count": 13,
   "metadata": {},
   "outputs": [
    {
     "data": {
      "text/html": [
       "<div>\n",
       "<style scoped>\n",
       "    .dataframe tbody tr th:only-of-type {\n",
       "        vertical-align: middle;\n",
       "    }\n",
       "\n",
       "    .dataframe tbody tr th {\n",
       "        vertical-align: top;\n",
       "    }\n",
       "\n",
       "    .dataframe thead th {\n",
       "        text-align: right;\n",
       "    }\n",
       "</style>\n",
       "<table border=\"1\" class=\"dataframe\">\n",
       "  <thead>\n",
       "    <tr style=\"text-align: right;\">\n",
       "      <th></th>\n",
       "      <th>k</th>\n",
       "      <th>error</th>\n",
       "    </tr>\n",
       "  </thead>\n",
       "  <tbody>\n",
       "    <tr>\n",
       "      <th>0</th>\n",
       "      <td>5</td>\n",
       "      <td>0.966206</td>\n",
       "    </tr>\n",
       "    <tr>\n",
       "      <th>1</th>\n",
       "      <td>10</td>\n",
       "      <td>1.026923</td>\n",
       "    </tr>\n",
       "    <tr>\n",
       "      <th>2</th>\n",
       "      <td>25</td>\n",
       "      <td>1.125814</td>\n",
       "    </tr>\n",
       "    <tr>\n",
       "      <th>3</th>\n",
       "      <td>50</td>\n",
       "      <td>1.145770</td>\n",
       "    </tr>\n",
       "    <tr>\n",
       "      <th>4</th>\n",
       "      <td>75</td>\n",
       "      <td>1.101524</td>\n",
       "    </tr>\n",
       "    <tr>\n",
       "      <th>5</th>\n",
       "      <td>100</td>\n",
       "      <td>1.053419</td>\n",
       "    </tr>\n",
       "  </tbody>\n",
       "</table>\n",
       "</div>"
      ],
      "text/plain": [
       "     k     error\n",
       "0    5  0.966206\n",
       "1   10  1.026923\n",
       "2   25  1.125814\n",
       "3   50  1.145770\n",
       "4   75  1.101524\n",
       "5  100  1.053419"
      ]
     },
     "execution_count": 13,
     "metadata": {},
     "output_type": "execute_result"
    }
   ],
   "source": [
    "# Test RMSE dataframe\n",
    "error_data = {'k': k_factors, 'error': test_rmse}\n",
    "pd.DataFrame(error_data)"
   ]
  },
  {
   "cell_type": "code",
   "execution_count": 14,
   "metadata": {},
   "outputs": [
    {
     "data": {
      "image/png": "[encoded data removed]",
      "text/plain": [
       "<Figure size 720x360 with 1 Axes>"
      ]
     },
     "metadata": {
      "needs_background": "light"
     },
     "output_type": "display_data"
    }
   ],
   "source": [
    "# Plotting the RMSE behaviour\n",
    "plot_model_rmse(error_data['k'], error_data['error'], 'Test Model Errors', 'k', 'rmse')"
   ]
  },
  {
   "cell_type": "markdown",
   "metadata": {},
   "source": [
    "**The regularization term for all parameters. Default is 0.02**"
   ]
  },
  {
   "cell_type": "code",
   "execution_count": 15,
   "metadata": {},
   "outputs": [],
   "source": [
    "# Lista de valores de regularización\n",
    "k = 5\n",
    "reg_all = [0.01, 0.02, 0.05, 0.1, 0.5]"
   ]
  },
  {
   "cell_type": "code",
   "execution_count": 16,
   "metadata": {},
   "outputs": [],
   "source": [
    "# CV results\n",
    "train_rmse = []\n",
    "test_rmse = []\n",
    "\n",
    "# Loop in which errors are calculated\n",
    "for reg in reg_all:\n",
    "    algo = SVD(n_factors=k, n_epochs=200, biased=True, lr_all=0.005, reg_all=reg, init_mean=0, init_std_dev=0.01, verbose=False)\n",
    "    algo.fit(data_train)\n",
    "    \n",
    "    # The error of the training data is calculated and saved\n",
    "    predictions = algo.test(data_trainset)\n",
    "    error = accuracy.rmse(predictions, verbose = False)\n",
    "    train_rmse.append(error)\n",
    "    \n",
    "    # The error of the testing data is calculated and saved\n",
    "    predictions_test = algo.test(data_testset)\n",
    "    error = accuracy.rmse(predictions_test, verbose = False)\n",
    "    test_rmse.append(error)"
   ]
  },
  {
   "cell_type": "code",
   "execution_count": 17,
   "metadata": {},
   "outputs": [
    {
     "data": {
      "text/html": [
       "<div>\n",
       "<style scoped>\n",
       "    .dataframe tbody tr th:only-of-type {\n",
       "        vertical-align: middle;\n",
       "    }\n",
       "\n",
       "    .dataframe tbody tr th {\n",
       "        vertical-align: top;\n",
       "    }\n",
       "\n",
       "    .dataframe thead th {\n",
       "        text-align: right;\n",
       "    }\n",
       "</style>\n",
       "<table border=\"1\" class=\"dataframe\">\n",
       "  <thead>\n",
       "    <tr style=\"text-align: right;\">\n",
       "      <th></th>\n",
       "      <th>reg_all</th>\n",
       "      <th>error</th>\n",
       "    </tr>\n",
       "  </thead>\n",
       "  <tbody>\n",
       "    <tr>\n",
       "      <th>0</th>\n",
       "      <td>0.01</td>\n",
       "      <td>0.749832</td>\n",
       "    </tr>\n",
       "    <tr>\n",
       "      <th>1</th>\n",
       "      <td>0.02</td>\n",
       "      <td>0.752630</td>\n",
       "    </tr>\n",
       "    <tr>\n",
       "      <th>2</th>\n",
       "      <td>0.05</td>\n",
       "      <td>0.768882</td>\n",
       "    </tr>\n",
       "    <tr>\n",
       "      <th>3</th>\n",
       "      <td>0.10</td>\n",
       "      <td>0.801547</td>\n",
       "    </tr>\n",
       "    <tr>\n",
       "      <th>4</th>\n",
       "      <td>0.50</td>\n",
       "      <td>0.937865</td>\n",
       "    </tr>\n",
       "  </tbody>\n",
       "</table>\n",
       "</div>"
      ],
      "text/plain": [
       "   reg_all     error\n",
       "0     0.01  0.749832\n",
       "1     0.02  0.752630\n",
       "2     0.05  0.768882\n",
       "3     0.10  0.801547\n",
       "4     0.50  0.937865"
      ]
     },
     "execution_count": 17,
     "metadata": {},
     "output_type": "execute_result"
    }
   ],
   "source": [
    "# Train RMSE dataframe\n",
    "error_data = {'reg_all': reg_all, 'error': train_rmse}\n",
    "pd.DataFrame(error_data)"
   ]
  },
  {
   "cell_type": "code",
   "execution_count": 18,
   "metadata": {},
   "outputs": [
    {
     "data": {
      "image/png": "[encoded data removed]",
      "text/plain": [
       "<Figure size 720x360 with 1 Axes>"
      ]
     },
     "metadata": {
      "needs_background": "light"
     },
     "output_type": "display_data"
    }
   ],
   "source": [
    "# Plotting the RMSE behaviour\n",
    "plot_model_rmse(error_data['reg_all'], error_data['error'], 'Train Model Errors', 'reg all', 'rmse')"
   ]
  },
  {
   "cell_type": "code",
   "execution_count": 19,
   "metadata": {},
   "outputs": [
    {
     "data": {
      "text/html": [
       "<div>\n",
       "<style scoped>\n",
       "    .dataframe tbody tr th:only-of-type {\n",
       "        vertical-align: middle;\n",
       "    }\n",
       "\n",
       "    .dataframe tbody tr th {\n",
       "        vertical-align: top;\n",
       "    }\n",
       "\n",
       "    .dataframe thead th {\n",
       "        text-align: right;\n",
       "    }\n",
       "</style>\n",
       "<table border=\"1\" class=\"dataframe\">\n",
       "  <thead>\n",
       "    <tr style=\"text-align: right;\">\n",
       "      <th></th>\n",
       "      <th>reg_all</th>\n",
       "      <th>error</th>\n",
       "    </tr>\n",
       "  </thead>\n",
       "  <tbody>\n",
       "    <tr>\n",
       "      <th>0</th>\n",
       "      <td>0.01</td>\n",
       "      <td>0.958093</td>\n",
       "    </tr>\n",
       "    <tr>\n",
       "      <th>1</th>\n",
       "      <td>0.02</td>\n",
       "      <td>0.953766</td>\n",
       "    </tr>\n",
       "    <tr>\n",
       "      <th>2</th>\n",
       "      <td>0.05</td>\n",
       "      <td>0.933283</td>\n",
       "    </tr>\n",
       "    <tr>\n",
       "      <th>3</th>\n",
       "      <td>0.10</td>\n",
       "      <td>0.919134</td>\n",
       "    </tr>\n",
       "    <tr>\n",
       "      <th>4</th>\n",
       "      <td>0.50</td>\n",
       "      <td>0.964596</td>\n",
       "    </tr>\n",
       "  </tbody>\n",
       "</table>\n",
       "</div>"
      ],
      "text/plain": [
       "   reg_all     error\n",
       "0     0.01  0.958093\n",
       "1     0.02  0.953766\n",
       "2     0.05  0.933283\n",
       "3     0.10  0.919134\n",
       "4     0.50  0.964596"
      ]
     },
     "execution_count": 19,
     "metadata": {},
     "output_type": "execute_result"
    }
   ],
   "source": [
    "# Test RMSE dataframe\n",
    "error_data = {'reg_all': reg_all, 'error': test_rmse}\n",
    "pd.DataFrame(error_data)"
   ]
  },
  {
   "cell_type": "code",
   "execution_count": 20,
   "metadata": {},
   "outputs": [
    {
     "data": {
      "image/png": "[encoded data removed]",
      "text/plain": [
       "<Figure size 720x360 with 1 Axes>"
      ]
     },
     "metadata": {
      "needs_background": "light"
     },
     "output_type": "display_data"
    }
   ],
   "source": [
    "# Plotting the RMSE behaviour\n",
    "plot_model_rmse(error_data['reg_all'], error_data['error'], 'Train Model Errors', 'reg all', 'rmse')"
   ]
  },
  {
   "cell_type": "markdown",
   "metadata": {},
   "source": [
    "## 2. Auto Tune"
   ]
  },
  {
   "cell_type": "markdown",
   "metadata": {},
   "source": [
    "The **GridSearchCV** class computes accuracy metrics for an algorithm on various combinations of parameters, over a cross-validation procedure. This is useful for finding the best set of parameters for a prediction algorithm."
   ]
  },
  {
   "cell_type": "code",
   "execution_count": 21,
   "metadata": {},
   "outputs": [],
   "source": [
    "# Read the raw data into a Surprise dataset\n",
    "reader = Reader(rating_scale = (1, 5))\n",
    "dataset = Dataset.load_from_df(rawdata[['user_id', 'item_id', 'rating']], reader)"
   ]
  },
  {
   "cell_type": "code",
   "execution_count": 22,
   "metadata": {},
   "outputs": [],
   "source": [
    "# SVD params: 3 * 3 * 3 * 3 combinations\n",
    "param_grid = {'n_factors': [5, 10, 20],\n",
    "              'n_epochs': [20, 30, 50],\n",
    "              'lr_all': [0.002, 0.005, 0.01],\n",
    "              'reg_all': [0.02, 0.05, 0.1]}"
   ]
  },
  {
   "cell_type": "code",
   "execution_count": 23,
   "metadata": {},
   "outputs": [],
   "source": [
    "# Tune algorithm parameters with GridSearchCV and k=4 cross-validation \n",
    "gs = GridSearchCV(SVD, param_grid, measures = ['rmse', 'mae'], cv = 4)\n",
    "gs.fit(dataset)"
   ]
  },
  {
   "cell_type": "code",
   "execution_count": 24,
   "metadata": {},
   "outputs": [
    {
     "data": {
      "text/plain": [
       "{'rmse': 0.9166393930190868, 'mae': 0.7226028608788528}"
      ]
     },
     "execution_count": 24,
     "metadata": {},
     "output_type": "execute_result"
    }
   ],
   "source": [
    "# Best RMSE and MAE scores\n",
    "gs.best_score"
   ]
  },
  {
   "cell_type": "code",
   "execution_count": 25,
   "metadata": {},
   "outputs": [
    {
     "data": {
      "text/plain": [
       "{'rmse': {'n_factors': 20, 'n_epochs': 50, 'lr_all': 0.01, 'reg_all': 0.1},\n",
       " 'mae': {'n_factors': 20, 'n_epochs': 50, 'lr_all': 0.01, 'reg_all': 0.1}}"
      ]
     },
     "execution_count": 25,
     "metadata": {},
     "output_type": "execute_result"
    }
   ],
   "source": [
    "# Combination of parameters that gave the best scores\n",
    "gs.best_params"
   ]
  },
  {
   "cell_type": "markdown",
   "metadata": {},
   "source": [
    "## 3. Compute precision@k and recall@k"
   ]
  },
  {
   "cell_type": "markdown",
   "metadata": {},
   "source": [
    "An item is considered relevant if its true rating $r_{ui}$ is greater than a given threshold. An item is considered recommended if its estimated rating $\\hat{r}_{ui}$ is greater than the threshold, and if it is among the k highest estimated ratings."
   ]
  },
  {
   "cell_type": "markdown",
   "metadata": {},
   "source": [
    "$$ Precision@k = \\frac{| TP |}{| TP + FP |} = \\frac{| \\{Recommended \\; items \\; that \\; are \\; relevant\\} |}{| \\{Recommended \\; items\\} |} \\tag{1} $$"
   ]
  },
  {
   "cell_type": "markdown",
   "metadata": {},
   "source": [
    "$$ Recall@k = \\frac{| TP |}{| TP + FN |} = \\frac{| \\{Recommended \\; items \\; that \\; are \\; relevant\\} |}{| \\{Relevant \\; items\\} |} \\tag{2} $$"
   ]
  },
  {
   "cell_type": "code",
   "execution_count": 26,
   "metadata": {},
   "outputs": [],
   "source": [
    "# Return precision and recall at k metrics for each user\n",
    "def precision_recall_at_k(predictions, k = 10, threshold = 3.5):\n",
    "    \n",
    "    # First map the predictions to each user.\n",
    "    user_est_true = defaultdict(list)\n",
    "    for uid, _, true_r, est, _ in predictions:\n",
    "        user_est_true[uid].append((est, true_r))\n",
    "    \n",
    "    precisions = dict()\n",
    "    recalls = dict()\n",
    "    for uid, user_ratings in user_est_true.items():\n",
    "        \n",
    "        # Sort user ratings by estimated value\n",
    "        user_ratings.sort(key=lambda x: x[0], reverse=True)\n",
    "        \n",
    "        # Number of relevant items\n",
    "        n_rel = sum((true_r >= threshold) for (_, true_r) in user_ratings)\n",
    "        \n",
    "        # Number of recommended items in top k\n",
    "        n_rec_k = sum((est >= threshold) for (est, _) in user_ratings[:k])\n",
    "        \n",
    "        # Number of relevant and recommended items in top k\n",
    "        n_rel_and_rec_k = sum(((true_r >= threshold) and (est >= threshold)) for (est, true_r) in user_ratings[:k])\n",
    "        \n",
    "        # Precision@K: Proportion of recommended items that are relevant\n",
    "        precisions[uid] = n_rel_and_rec_k / n_rec_k if n_rec_k != 0 else 1\n",
    "        \n",
    "        # Recall@K: Proportion of relevant items that are recommended\n",
    "        recalls[uid] = n_rel_and_rec_k / n_rel if n_rel != 0 else 1\n",
    "    \n",
    "    return precisions, recalls;"
   ]
  },
  {
   "cell_type": "code",
   "execution_count": 27,
   "metadata": {},
   "outputs": [],
   "source": [
    "# Returns the precision and recall of the model at k metrics\n",
    "def get_precision_vs_recall(algo, k_max = 10, verbose = False):\n",
    "    precision_list = []\n",
    "    recall_list = []\n",
    "    f1_score_list = []\n",
    "    \n",
    "    if algo:\n",
    "        for k_curr in range(1, k_max + 1):\n",
    "            algo.fit(data_train)\n",
    "            predictions = algo.test(data_testset)\n",
    "            \n",
    "            # Get precision and recall at k metrics for each user\n",
    "            precisions, recalls = precision_recall_at_k(predictions, k = k_curr, threshold = 4)\n",
    "            \n",
    "            # Precision and recall can then be averaged over all users\n",
    "            precision = sum(prec for prec in precisions.values()) / len(precisions)\n",
    "            recall = sum(rec for rec in recalls.values()) / len(recalls)\n",
    "            f1_score = 2 * (precision * recall) / (precision + recall)\n",
    "            \n",
    "            # Save measures\n",
    "            precision_list.append(precision)\n",
    "            recall_list.append(recall)\n",
    "            f1_score_list.append(f1_score)\n",
    "            \n",
    "            if verbose:\n",
    "                print('K =', k_curr, '- Precision:', precision, ', Recall:', recall, ', F1 score:', f1_score)\n",
    "    \n",
    "    return {'precision': precision_list, 'recall': recall_list, 'f1_score': f1_score_list};"
   ]
  },
  {
   "cell_type": "code",
   "execution_count": 28,
   "metadata": {},
   "outputs": [
    {
     "data": {
      "text/plain": [
       "{'n_factors': 20, 'n_epochs': 50, 'lr_all': 0.01, 'reg_all': 0.1}"
      ]
     },
     "execution_count": 28,
     "metadata": {},
     "output_type": "execute_result"
    }
   ],
   "source": [
    "# Show best params for SVD algo\n",
    "gs.best_params['rmse']"
   ]
  },
  {
   "cell_type": "code",
   "execution_count": 29,
   "metadata": {},
   "outputs": [],
   "source": [
    "# Use SVD algorithm with the best params\n",
    "algo = SVD() #gs.best_estimator['rmse']"
   ]
  },
  {
   "cell_type": "code",
   "execution_count": 30,
   "metadata": {},
   "outputs": [
    {
     "name": "stdout",
     "output_type": "stream",
     "text": [
      "K = 1 - Precision: 0.886411889596603 , Recall: 0.10718462087913463 , F1 score: 0.1912440740833082\n",
      "K = 2 - Precision: 0.8795116772823779 , Recall: 0.169447583530288 , F1 score: 0.28415046030807667\n",
      "K = 3 - Precision: 0.8791578202406222 , Recall: 0.20326047352732038 , F1 score: 0.33018295399517034\n",
      "K = 4 - Precision: 0.872434536447275 , Recall: 0.2376092759887271 , F1 score: 0.37349613813508686\n",
      "K = 5 - Precision: 0.8726999292285911 , Recall: 0.2525420967759154 , F1 score: 0.3917263395611901\n",
      "K = 6 - Precision: 0.8678874734607218 , Recall: 0.27146692548631346 , F1 score: 0.4135723604634434\n",
      "K = 7 - Precision: 0.872725204731573 , Recall: 0.283912137018604 , F1 score: 0.42844419587977856\n",
      "K = 8 - Precision: 0.8714551107067028 , Recall: 0.291218419798995 , F1 score: 0.4365520906894345\n",
      "K = 9 - Precision: 0.8573842381963406 , Recall: 0.3065108943383628 , F1 score: 0.4515829687660294\n",
      "K = 10 - Precision: 0.8603124052168634 , Recall: 0.30742238523149756 , F1 score: 0.45297835402243336\n",
      "K = 11 - Precision: 0.8682346669607819 , Recall: 0.3171578453565094 , F1 score: 0.46460127489551944\n",
      "K = 12 - Precision: 0.8584259718813855 , Recall: 0.31319496004774927 , F1 score: 0.4589448355530106\n",
      "K = 13 - Precision: 0.8653974122126985 , Recall: 0.31888408800841744 , F1 score: 0.46604031981714883\n",
      "K = 14 - Precision: 0.8656337322738595 , Recall: 0.3247169340600693 , F1 score: 0.47227416174535836\n",
      "K = 15 - Precision: 0.859049722982844 , Recall: 0.32586313495428215 , F1 score: 0.47249489097476055\n",
      "K = 16 - Precision: 0.8689343182177576 , Recall: 0.3235016464291065 , F1 score: 0.47147468026166933\n",
      "K = 17 - Precision: 0.860531121321679 , Recall: 0.32423520534384065 , F1 score: 0.4710034013403737\n",
      "K = 18 - Precision: 0.8627281985772997 , Recall: 0.3378237955104116 , F1 score: 0.48552685093612097\n",
      "K = 19 - Precision: 0.8563642283616748 , Recall: 0.33039343700305207 , F1 score: 0.47682375095158974\n",
      "K = 20 - Precision: 0.8552265935307832 , Recall: 0.33484476929988183 , F1 score: 0.48126215007609785\n"
     ]
    }
   ],
   "source": [
    "# Calculate the precision and recall of the model at k metrics\n",
    "k_max = 20\n",
    "metrics = get_precision_vs_recall(algo, k_max, True)"
   ]
  },
  {
   "cell_type": "code",
   "execution_count": 31,
   "metadata": {},
   "outputs": [
    {
     "data": {
      "image/png": "[encoded data removed]",
      "text/plain": [
       "<Figure size 720x360 with 1 Axes>"
      ]
     },
     "metadata": {
      "needs_background": "light"
     },
     "output_type": "display_data"
    }
   ],
   "source": [
    "# Get data\n",
    "c1 = metrics['precision']\n",
    "c2 = metrics['recall']\n",
    "c3 = metrics['f1_score']\n",
    "x = np.arange(len(c1))\n",
    "\n",
    "# Set up the matplotlib figure\n",
    "fig, ax1 = plt.subplots(figsize = (10, 5))\n",
    "plt.xticks(np.arange(min(x), max(x) + 1, 1.0))\n",
    "plt.ylim(0, 1)\n",
    "ax1.plot(x, c1, marker = 'o')\n",
    "ax1.plot(x, c2, marker = 'o')\n",
    "ax1.plot(x, c3, marker = 'o')\n",
    "ax1.axvline(x = 10, color = \"#8b0000\", linestyle = \"--\")\n",
    "\n",
    "# Chart setup\n",
    "plt.title(\"Model's metrics\", fontsize = 12)\n",
    "plt.xlabel(\"k\", fontsize = 10)\n",
    "plt.ylabel(\"Precision and Recall\", fontsize = 10)\n",
    "plt.legend((\"Precision\", \"Recall\", \"F1 score\"), loc = \"best\")\n",
    "plt.draw()"
   ]
  },
  {
   "cell_type": "markdown",
   "metadata": {},
   "source": [
    "Based on this graph, we can select a k = 10, since from that value, the model's metrics practically do not vary."
   ]
  },
  {
   "cell_type": "code",
   "execution_count": 32,
   "metadata": {},
   "outputs": [
    {
     "data": {
      "image/png": "[encoded data removed]",
      "text/plain": [
       "<Figure size 720x720 with 1 Axes>"
      ]
     },
     "metadata": {
      "needs_background": "light"
     },
     "output_type": "display_data"
    }
   ],
   "source": [
    "# Get data\n",
    "x = metrics['recall']\n",
    "y = metrics['precision']\n",
    "\n",
    "# Create scatter plot with the precision and recall results\n",
    "fig, ax2 = plt.subplots(figsize = (10, 10))\n",
    "\n",
    "# Create 2D scatter plot\n",
    "sns.regplot(ax = ax2, x = x, y = y, fit_reg = False, marker = \"o\", color = \"#1f77b4\", scatter_kws = {\"s\": 30})\n",
    "\n",
    "# Plot setup\n",
    "ax2.set_title(\"Precision vs Recall\", fontsize = 12)\n",
    "ax2.set_xlabel(\"Recall\", fontsize = 10)\n",
    "ax2.set_ylabel(\"Precision\", fontsize = 10)\n",
    "ax2.grid()"
   ]
  },
  {
   "cell_type": "markdown",
   "metadata": {},
   "source": [
    "---\n",
    "<a href=\"https://ansegura7.github.io/RS_Surprise/\">&laquo; Home</a>"
   ]
  }
 ],
 "metadata": {
  "kernelspec": {
   "display_name": "Python 3",
   "language": "python",
   "name": "python3"
  },
  "language_info": {
   "codemirror_mode": {
    "name": "ipython",
    "version": 3
   },
   "file_extension": ".py",
   "mimetype": "text/x-python",
   "name": "python",
   "nbconvert_exporter": "python",
   "pygments_lexer": "ipython3",
   "version": "3.6.8"
  }
 },
 "nbformat": 4,
 "nbformat_minor": 2
}
