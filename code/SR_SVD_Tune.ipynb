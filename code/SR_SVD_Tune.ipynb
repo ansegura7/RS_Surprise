{
 "cells": [
  {
   "cell_type": "markdown",
   "metadata": {},
   "source": [
    "# Recommender Systems with Surprise\n",
    "- **Created by Andrés Segura Tinoco**\n",
    "- **Created on May 27, 2019**"
   ]
  },
  {
   "cell_type": "markdown",
   "metadata": {},
   "source": [
    "## Experiment description\n",
    "- Model built from a Pandas dataframe\n",
    "- The algorithm used is: Singular Value Decomposition (SVD)\n",
    "- Model trained using train and test datasets (80/20) and cross-validation\n",
    "- The RMSE and MAE metrics were used to estimate the model error\n",
    "- Type of filtering: collaborative"
   ]
  },
  {
   "cell_type": "code",
   "execution_count": 1,
   "metadata": {},
   "outputs": [],
   "source": [
    "# Load the Python libraries\n",
    "import os\n",
    "import pandas as pd\n",
    "import numpy as np\n",
    "from sklearn.model_selection import train_test_split"
   ]
  },
  {
   "cell_type": "code",
   "execution_count": 2,
   "metadata": {},
   "outputs": [],
   "source": [
    "# Load Surprise libraries\n",
    "from surprise import SVD\n",
    "from surprise import Reader\n",
    "from surprise import Dataset\n",
    "from surprise import accuracy\n",
    "from surprise.model_selection import GridSearchCV"
   ]
  },
  {
   "cell_type": "code",
   "execution_count": 3,
   "metadata": {},
   "outputs": [],
   "source": [
    "# Load plotting libraries\n",
    "import matplotlib.pyplot as plt\n",
    "import seaborn as sns"
   ]
  },
  {
   "cell_type": "code",
   "execution_count": 4,
   "metadata": {},
   "outputs": [
    {
     "data": {
      "text/html": [
       "<div>\n",
       "<style scoped>\n",
       "    .dataframe tbody tr th:only-of-type {\n",
       "        vertical-align: middle;\n",
       "    }\n",
       "\n",
       "    .dataframe tbody tr th {\n",
       "        vertical-align: top;\n",
       "    }\n",
       "\n",
       "    .dataframe thead th {\n",
       "        text-align: right;\n",
       "    }\n",
       "</style>\n",
       "<table border=\"1\" class=\"dataframe\">\n",
       "  <thead>\n",
       "    <tr style=\"text-align: right;\">\n",
       "      <th></th>\n",
       "      <th>user_id</th>\n",
       "      <th>item_id</th>\n",
       "      <th>rating</th>\n",
       "      <th>timestamp</th>\n",
       "    </tr>\n",
       "  </thead>\n",
       "  <tbody>\n",
       "    <tr>\n",
       "      <th>0</th>\n",
       "      <td>196</td>\n",
       "      <td>242</td>\n",
       "      <td>3</td>\n",
       "      <td>881250949</td>\n",
       "    </tr>\n",
       "    <tr>\n",
       "      <th>1</th>\n",
       "      <td>186</td>\n",
       "      <td>302</td>\n",
       "      <td>3</td>\n",
       "      <td>891717742</td>\n",
       "    </tr>\n",
       "    <tr>\n",
       "      <th>2</th>\n",
       "      <td>22</td>\n",
       "      <td>377</td>\n",
       "      <td>1</td>\n",
       "      <td>878887116</td>\n",
       "    </tr>\n",
       "    <tr>\n",
       "      <th>3</th>\n",
       "      <td>244</td>\n",
       "      <td>51</td>\n",
       "      <td>2</td>\n",
       "      <td>880606923</td>\n",
       "    </tr>\n",
       "    <tr>\n",
       "      <th>4</th>\n",
       "      <td>166</td>\n",
       "      <td>346</td>\n",
       "      <td>1</td>\n",
       "      <td>886397596</td>\n",
       "    </tr>\n",
       "  </tbody>\n",
       "</table>\n",
       "</div>"
      ],
      "text/plain": [
       "   user_id  item_id  rating  timestamp\n",
       "0      196      242       3  881250949\n",
       "1      186      302       3  891717742\n",
       "2       22      377       1  878887116\n",
       "3      244       51       2  880606923\n",
       "4      166      346       1  886397596"
      ]
     },
     "execution_count": 4,
     "metadata": {},
     "output_type": "execute_result"
    }
   ],
   "source": [
    "# Path to dataset file\n",
    "file_path = os.path.expanduser('../data/u.data')\n",
    "\n",
    "# Read current ratings of the users\n",
    "rawdata = pd.read_csv(file_path, sep = '\\t', names = ['user_id','item_id','rating','timestamp'])\n",
    "rawdata.head()"
   ]
  },
  {
   "cell_type": "markdown",
   "metadata": {},
   "source": [
    "## 1. Manual Tune"
   ]
  },
  {
   "cell_type": "code",
   "execution_count": 5,
   "metadata": {},
   "outputs": [
    {
     "name": "stdout",
     "output_type": "stream",
     "text": [
      "Train size: (80000, 4)\n",
      "Test size: (20000, 4)\n"
     ]
    }
   ],
   "source": [
    "# Split data in training and test\n",
    "train_data, test_data = train_test_split(rawdata, test_size = 0.2)\n",
    "print(\"Train size:\", train_data.shape)    # 80.00%\n",
    "print(\"Test size:\", test_data.shape)      # 20.00%"
   ]
  },
  {
   "cell_type": "code",
   "execution_count": 6,
   "metadata": {},
   "outputs": [],
   "source": [
    "# Read the data into a Surprise dataset\n",
    "reader = Reader(rating_scale = (1, 5))\n",
    "data_train = Dataset.load_from_df(train_data[['user_id', 'item_id', 'rating']], reader)\n",
    "data_test = Dataset.load_from_df(test_data[['user_id', 'item_id', 'rating']], reader)"
   ]
  },
  {
   "cell_type": "code",
   "execution_count": 7,
   "metadata": {},
   "outputs": [],
   "source": [
    "# Build full trainset\n",
    "data_train = data_train.build_full_trainset()\n",
    "data_test = data_test.build_full_trainset()\n",
    "\n",
    "# Create the trainset and testset\n",
    "data_trainset = data_train.build_testset()\n",
    "data_testset = data_test.build_testset()"
   ]
  },
  {
   "cell_type": "code",
   "execution_count": 8,
   "metadata": {},
   "outputs": [],
   "source": [
    "# Plot the model RMSE\n",
    "def plot_model_rmse(xs, ys, title, x_label, y_label):\n",
    "    # Set up the matplotlib figure\n",
    "    fig, ax = plt.subplots(figsize = (10, 5))\n",
    "    ax.plot(xs, ys, marker = 'o')\n",
    "    \n",
    "    for x,y in zip(xs,ys):\n",
    "        label = \"{:.2f}\".format(y)\n",
    "        plt.annotate(label, (x,y), textcoords=\"offset points\", xytext=(0,10), ha='center')\n",
    "    \n",
    "    plt.title(title, fontsize = 12)\n",
    "    plt.xlabel(x_label, fontsize = 10)\n",
    "    plt.ylabel(y_label, fontsize = 10)\n",
    "    plt.draw()"
   ]
  },
  {
   "cell_type": "markdown",
   "metadata": {},
   "source": [
    "**Number of factors (k)**"
   ]
  },
  {
   "cell_type": "code",
   "execution_count": 9,
   "metadata": {},
   "outputs": [],
   "source": [
    "# Factors list\n",
    "k_factors = [5, 10, 25, 50, 75, 100]"
   ]
  },
  {
   "cell_type": "code",
   "execution_count": 10,
   "metadata": {},
   "outputs": [],
   "source": [
    "# Results\n",
    "train_rmse = []\n",
    "test_rmse = []\n",
    "\n",
    "# Loop in which errors are calculated\n",
    "for k in k_factors:\n",
    "    algo = SVD(n_factors=k, n_epochs=200, biased=True, lr_all=0.005, reg_all=0, init_mean=0, init_std_dev=0.01, verbose=False)\n",
    "    algo.fit(data_train)\n",
    "    \n",
    "    # The error of the training data is calculated and saved\n",
    "    predictions = algo.test(data_trainset)\n",
    "    error = accuracy.rmse(predictions, verbose = False)\n",
    "    train_rmse.append(error)\n",
    "    \n",
    "    # The error of the testing data is calculated and saved\n",
    "    predictions_test = algo.test(data_testset)\n",
    "    error = accuracy.rmse(predictions_test, verbose = False)\n",
    "    test_rmse.append(error)"
   ]
  },
  {
   "cell_type": "code",
   "execution_count": 11,
   "metadata": {},
   "outputs": [
    {
     "data": {
      "text/html": [
       "<div>\n",
       "<style scoped>\n",
       "    .dataframe tbody tr th:only-of-type {\n",
       "        vertical-align: middle;\n",
       "    }\n",
       "\n",
       "    .dataframe tbody tr th {\n",
       "        vertical-align: top;\n",
       "    }\n",
       "\n",
       "    .dataframe thead th {\n",
       "        text-align: right;\n",
       "    }\n",
       "</style>\n",
       "<table border=\"1\" class=\"dataframe\">\n",
       "  <thead>\n",
       "    <tr style=\"text-align: right;\">\n",
       "      <th></th>\n",
       "      <th>k</th>\n",
       "      <th>error</th>\n",
       "    </tr>\n",
       "  </thead>\n",
       "  <tbody>\n",
       "    <tr>\n",
       "      <th>0</th>\n",
       "      <td>5</td>\n",
       "      <td>0.749114</td>\n",
       "    </tr>\n",
       "    <tr>\n",
       "      <th>1</th>\n",
       "      <td>10</td>\n",
       "      <td>0.648052</td>\n",
       "    </tr>\n",
       "    <tr>\n",
       "      <th>2</th>\n",
       "      <td>25</td>\n",
       "      <td>0.424839</td>\n",
       "    </tr>\n",
       "    <tr>\n",
       "      <th>3</th>\n",
       "      <td>50</td>\n",
       "      <td>0.204755</td>\n",
       "    </tr>\n",
       "    <tr>\n",
       "      <th>4</th>\n",
       "      <td>75</td>\n",
       "      <td>0.095559</td>\n",
       "    </tr>\n",
       "    <tr>\n",
       "      <th>5</th>\n",
       "      <td>100</td>\n",
       "      <td>0.049433</td>\n",
       "    </tr>\n",
       "  </tbody>\n",
       "</table>\n",
       "</div>"
      ],
      "text/plain": [
       "     k     error\n",
       "0    5  0.749114\n",
       "1   10  0.648052\n",
       "2   25  0.424839\n",
       "3   50  0.204755\n",
       "4   75  0.095559\n",
       "5  100  0.049433"
      ]
     },
     "execution_count": 11,
     "metadata": {},
     "output_type": "execute_result"
    }
   ],
   "source": [
    "# Train RMSE dataframe\n",
    "error_data = {'k': k_factors, 'error': train_rmse}\n",
    "pd.DataFrame(error_data)"
   ]
  },
  {
   "cell_type": "code",
   "execution_count": 12,
   "metadata": {},
   "outputs": [
    {
     "data": {
      "image/png": "[encoded data removed]",
      "text/plain": [
       "<Figure size 720x360 with 1 Axes>"
      ]
     },
     "metadata": {
      "needs_background": "light"
     },
     "output_type": "display_data"
    }
   ],
   "source": [
    "# Set up the matplotlib figure\n",
    "plot_model_rmse(error_data['k'], error_data['error'], 'Train Model Errors', 'k', 'rmse')"
   ]
  },
  {
   "cell_type": "code",
   "execution_count": 13,
   "metadata": {},
   "outputs": [
    {
     "data": {
      "text/html": [
       "<div>\n",
       "<style scoped>\n",
       "    .dataframe tbody tr th:only-of-type {\n",
       "        vertical-align: middle;\n",
       "    }\n",
       "\n",
       "    .dataframe tbody tr th {\n",
       "        vertical-align: top;\n",
       "    }\n",
       "\n",
       "    .dataframe thead th {\n",
       "        text-align: right;\n",
       "    }\n",
       "</style>\n",
       "<table border=\"1\" class=\"dataframe\">\n",
       "  <thead>\n",
       "    <tr style=\"text-align: right;\">\n",
       "      <th></th>\n",
       "      <th>k</th>\n",
       "      <th>error</th>\n",
       "    </tr>\n",
       "  </thead>\n",
       "  <tbody>\n",
       "    <tr>\n",
       "      <th>0</th>\n",
       "      <td>5</td>\n",
       "      <td>0.959152</td>\n",
       "    </tr>\n",
       "    <tr>\n",
       "      <th>1</th>\n",
       "      <td>10</td>\n",
       "      <td>1.020392</td>\n",
       "    </tr>\n",
       "    <tr>\n",
       "      <th>2</th>\n",
       "      <td>25</td>\n",
       "      <td>1.124666</td>\n",
       "    </tr>\n",
       "    <tr>\n",
       "      <th>3</th>\n",
       "      <td>50</td>\n",
       "      <td>1.136032</td>\n",
       "    </tr>\n",
       "    <tr>\n",
       "      <th>4</th>\n",
       "      <td>75</td>\n",
       "      <td>1.092518</td>\n",
       "    </tr>\n",
       "    <tr>\n",
       "      <th>5</th>\n",
       "      <td>100</td>\n",
       "      <td>1.055903</td>\n",
       "    </tr>\n",
       "  </tbody>\n",
       "</table>\n",
       "</div>"
      ],
      "text/plain": [
       "     k     error\n",
       "0    5  0.959152\n",
       "1   10  1.020392\n",
       "2   25  1.124666\n",
       "3   50  1.136032\n",
       "4   75  1.092518\n",
       "5  100  1.055903"
      ]
     },
     "execution_count": 13,
     "metadata": {},
     "output_type": "execute_result"
    }
   ],
   "source": [
    "# Test RMSE dataframe\n",
    "error_data = {'k': k_factors, 'error': test_rmse}\n",
    "pd.DataFrame(error_data)"
   ]
  },
  {
   "cell_type": "code",
   "execution_count": 14,
   "metadata": {},
   "outputs": [
    {
     "data": {
      "image/png": "[encoded data removed]",
      "text/plain": [
       "<Figure size 720x360 with 1 Axes>"
      ]
     },
     "metadata": {
      "needs_background": "light"
     },
     "output_type": "display_data"
    }
   ],
   "source": [
    "# Set up the matplotlib figure\n",
    "plot_model_rmse(error_data['k'], error_data['error'], 'Test Model Errors', 'k', 'rmse')"
   ]
  },
  {
   "cell_type": "markdown",
   "metadata": {},
   "source": [
    "**The regularization term for all parameters. Default is 0.02**"
   ]
  },
  {
   "cell_type": "code",
   "execution_count": 15,
   "metadata": {},
   "outputs": [],
   "source": [
    "# Lista de valores de regularización\n",
    "k = 5\n",
    "reg_all = [0.01, 0.02, 0.1, 0.5, 1]"
   ]
  },
  {
   "cell_type": "code",
   "execution_count": 16,
   "metadata": {},
   "outputs": [],
   "source": [
    "# Results\n",
    "train_rmse = []\n",
    "test_rmse = []\n",
    "\n",
    "# Loop in which errors are calculated\n",
    "for reg in reg_all:\n",
    "    algo = SVD(n_factors=k, n_epochs=200, biased=True, lr_all=0.005, reg_all=reg, init_mean=0, init_std_dev=0.01, verbose=False)\n",
    "    algo.fit(data_train)\n",
    "    \n",
    "    # The error of the training data is calculated and saved\n",
    "    predictions = algo.test(data_trainset)\n",
    "    error = accuracy.rmse(predictions, verbose = False)\n",
    "    train_rmse.append(error)\n",
    "    \n",
    "    # The error of the testing data is calculated and saved\n",
    "    predictions_test = algo.test(data_testset)\n",
    "    error = accuracy.rmse(predictions_test, verbose = False)\n",
    "    test_rmse.append(error)"
   ]
  },
  {
   "cell_type": "code",
   "execution_count": 17,
   "metadata": {},
   "outputs": [
    {
     "data": {
      "text/html": [
       "<div>\n",
       "<style scoped>\n",
       "    .dataframe tbody tr th:only-of-type {\n",
       "        vertical-align: middle;\n",
       "    }\n",
       "\n",
       "    .dataframe tbody tr th {\n",
       "        vertical-align: top;\n",
       "    }\n",
       "\n",
       "    .dataframe thead th {\n",
       "        text-align: right;\n",
       "    }\n",
       "</style>\n",
       "<table border=\"1\" class=\"dataframe\">\n",
       "  <thead>\n",
       "    <tr style=\"text-align: right;\">\n",
       "      <th></th>\n",
       "      <th>reg_all</th>\n",
       "      <th>error</th>\n",
       "    </tr>\n",
       "  </thead>\n",
       "  <tbody>\n",
       "    <tr>\n",
       "      <th>0</th>\n",
       "      <td>0.01</td>\n",
       "      <td>0.751460</td>\n",
       "    </tr>\n",
       "    <tr>\n",
       "      <th>1</th>\n",
       "      <td>0.02</td>\n",
       "      <td>0.753578</td>\n",
       "    </tr>\n",
       "    <tr>\n",
       "      <th>2</th>\n",
       "      <td>0.10</td>\n",
       "      <td>0.804762</td>\n",
       "    </tr>\n",
       "    <tr>\n",
       "      <th>3</th>\n",
       "      <td>0.50</td>\n",
       "      <td>0.938582</td>\n",
       "    </tr>\n",
       "    <tr>\n",
       "      <th>4</th>\n",
       "      <td>1.00</td>\n",
       "      <td>0.969529</td>\n",
       "    </tr>\n",
       "  </tbody>\n",
       "</table>\n",
       "</div>"
      ],
      "text/plain": [
       "   reg_all     error\n",
       "0     0.01  0.751460\n",
       "1     0.02  0.753578\n",
       "2     0.10  0.804762\n",
       "3     0.50  0.938582\n",
       "4     1.00  0.969529"
      ]
     },
     "execution_count": 17,
     "metadata": {},
     "output_type": "execute_result"
    }
   ],
   "source": [
    "# Train RMSE dataframe\n",
    "error_data = {'reg_all': reg_all, 'error': train_rmse}\n",
    "pd.DataFrame(error_data)"
   ]
  },
  {
   "cell_type": "code",
   "execution_count": 18,
   "metadata": {},
   "outputs": [
    {
     "data": {
      "image/png": "[encoded data removed]",
      "text/plain": [
       "<Figure size 720x360 with 1 Axes>"
      ]
     },
     "metadata": {
      "needs_background": "light"
     },
     "output_type": "display_data"
    }
   ],
   "source": [
    "# Set up the matplotlib figure\n",
    "plot_model_rmse(error_data['reg_all'], error_data['error'], 'Train Model Errors', 'reg all', 'rmse')"
   ]
  },
  {
   "cell_type": "code",
   "execution_count": 19,
   "metadata": {},
   "outputs": [
    {
     "data": {
      "text/html": [
       "<div>\n",
       "<style scoped>\n",
       "    .dataframe tbody tr th:only-of-type {\n",
       "        vertical-align: middle;\n",
       "    }\n",
       "\n",
       "    .dataframe tbody tr th {\n",
       "        vertical-align: top;\n",
       "    }\n",
       "\n",
       "    .dataframe thead th {\n",
       "        text-align: right;\n",
       "    }\n",
       "</style>\n",
       "<table border=\"1\" class=\"dataframe\">\n",
       "  <thead>\n",
       "    <tr style=\"text-align: right;\">\n",
       "      <th></th>\n",
       "      <th>reg_all</th>\n",
       "      <th>error</th>\n",
       "    </tr>\n",
       "  </thead>\n",
       "  <tbody>\n",
       "    <tr>\n",
       "      <th>0</th>\n",
       "      <td>0.01</td>\n",
       "      <td>0.950153</td>\n",
       "    </tr>\n",
       "    <tr>\n",
       "      <th>1</th>\n",
       "      <td>0.02</td>\n",
       "      <td>0.942324</td>\n",
       "    </tr>\n",
       "    <tr>\n",
       "      <th>2</th>\n",
       "      <td>0.10</td>\n",
       "      <td>0.912727</td>\n",
       "    </tr>\n",
       "    <tr>\n",
       "      <th>3</th>\n",
       "      <td>0.50</td>\n",
       "      <td>0.955983</td>\n",
       "    </tr>\n",
       "    <tr>\n",
       "      <th>4</th>\n",
       "      <td>1.00</td>\n",
       "      <td>0.980417</td>\n",
       "    </tr>\n",
       "  </tbody>\n",
       "</table>\n",
       "</div>"
      ],
      "text/plain": [
       "   reg_all     error\n",
       "0     0.01  0.950153\n",
       "1     0.02  0.942324\n",
       "2     0.10  0.912727\n",
       "3     0.50  0.955983\n",
       "4     1.00  0.980417"
      ]
     },
     "execution_count": 19,
     "metadata": {},
     "output_type": "execute_result"
    }
   ],
   "source": [
    "# Test RMSE dataframe\n",
    "error_data = {'reg_all': reg_all, 'error': test_rmse}\n",
    "pd.DataFrame(error_data)"
   ]
  },
  {
   "cell_type": "code",
   "execution_count": 20,
   "metadata": {},
   "outputs": [
    {
     "data": {
      "image/png": "[encoded data removed]",
      "text/plain": [
       "<Figure size 720x360 with 1 Axes>"
      ]
     },
     "metadata": {
      "needs_background": "light"
     },
     "output_type": "display_data"
    }
   ],
   "source": [
    "# Set up the matplotlib figure\n",
    "plot_model_rmse(error_data['reg_all'], error_data['error'], 'Train Model Errors', 'reg all', 'rmse')"
   ]
  },
  {
   "cell_type": "markdown",
   "metadata": {},
   "source": [
    "## 2. Auto Tune"
   ]
  },
  {
   "cell_type": "markdown",
   "metadata": {},
   "source": [
    "The **GridSearchCV** class computes accuracy metrics for an algorithm on various combinations of parameters, over a cross-validation procedure. This is useful for finding the best set of parameters for a prediction algorithm."
   ]
  },
  {
   "cell_type": "code",
   "execution_count": 21,
   "metadata": {},
   "outputs": [],
   "source": [
    "# Read the raw data into a Surprise dataset\n",
    "reader = Reader(rating_scale = (1, 5))\n",
    "dataset = Dataset.load_from_df(rawdata[['user_id', 'item_id', 'rating']], reader)"
   ]
  },
  {
   "cell_type": "code",
   "execution_count": 22,
   "metadata": {},
   "outputs": [],
   "source": [
    "# SVD params\n",
    "param_grid = {'n_factors': [5, 10, 20],\n",
    "              'n_epochs': [10, 20, 30],\n",
    "              'lr_all': [0.002, 0.005],\n",
    "              'reg_all': [0.4, 0.6]}"
   ]
  },
  {
   "cell_type": "code",
   "execution_count": 23,
   "metadata": {},
   "outputs": [],
   "source": [
    "# Tune algorithm parameters with GridSearchCV\n",
    "gs = GridSearchCV(SVD, param_grid, measures=['rmse', 'mae'], cv = 3)\n",
    "gs.fit(dataset)"
   ]
  },
  {
   "cell_type": "code",
   "execution_count": 24,
   "metadata": {},
   "outputs": [
    {
     "name": "stdout",
     "output_type": "stream",
     "text": [
      "{'rmse': 0.9569991603829203, 'mae': 0.7662618189358344}\n"
     ]
    }
   ],
   "source": [
    "# Best RMSE and MAE scores\n",
    "print(gs.best_score)"
   ]
  },
  {
   "cell_type": "code",
   "execution_count": 25,
   "metadata": {},
   "outputs": [
    {
     "name": "stdout",
     "output_type": "stream",
     "text": [
      "{'rmse': {'n_factors': 5, 'n_epochs': 30, 'lr_all': 0.005, 'reg_all': 0.4}, 'mae': {'n_factors': 5, 'n_epochs': 30, 'lr_all': 0.005, 'reg_all': 0.4}}\n"
     ]
    }
   ],
   "source": [
    "# Combination of parameters that gave the best scores\n",
    "print(gs.best_params)"
   ]
  },
  {
   "cell_type": "code",
   "execution_count": 26,
   "metadata": {},
   "outputs": [
    {
     "data": {
      "text/plain": [
       "{'split0_test_rmse': array([0.97637567, 0.98424261, 0.96246437, 0.97178563, 0.96465281,\n",
       "        0.97367336, 0.95721583, 0.96707804, 0.96023222, 0.96970146,\n",
       "        0.95563866, 0.96565109, 0.97648165, 0.98433108, 0.96247011,\n",
       "        0.97183021, 0.9646167 , 0.9736898 , 0.95722209, 0.96708281,\n",
       "        0.96025641, 0.96971158, 0.95565116, 0.96565334, 0.97653973,\n",
       "        0.98437376, 0.96248025, 0.97181384, 0.96467814, 0.97368375,\n",
       "        0.95724905, 0.96708195, 0.96028452, 0.96971715, 0.95564067,\n",
       "        0.9656594 ]),\n",
       " 'split1_test_rmse': array([0.97688354, 0.9855507 , 0.96278516, 0.97296212, 0.96502154,\n",
       "        0.97492966, 0.95764016, 0.96826719, 0.96070995, 0.97098255,\n",
       "        0.95610797, 0.96686023, 0.97695555, 0.9855921 , 0.96281891,\n",
       "        0.97297079, 0.96509382, 0.97493534, 0.95766753, 0.96826538,\n",
       "        0.96074534, 0.97099102, 0.95611376, 0.96686251, 0.97705831,\n",
       "        0.98555114, 0.96287604, 0.97294487, 0.9651143 , 0.9749234 ,\n",
       "        0.9576639 , 0.96827951, 0.96078516, 0.97102148, 0.95611028,\n",
       "        0.96687256]),\n",
       " 'split2_test_rmse': array([0.97918492, 0.98777846, 0.96558051, 0.97562843, 0.96785661,\n",
       "        0.97764496, 0.9607244 , 0.9711765 , 0.96377664, 0.9739279 ,\n",
       "        0.95925086, 0.96985321, 0.97923608, 0.98770204, 0.96561985,\n",
       "        0.97562797, 0.96790554, 0.97766494, 0.96072413, 0.97118711,\n",
       "        0.96377246, 0.97392991, 0.95926349, 0.96985552, 0.97938978,\n",
       "        0.98777958, 0.96565999, 0.97565742, 0.96789923, 0.97771392,\n",
       "        0.96076359, 0.97118331, 0.96377038, 0.97393269, 0.95924805,\n",
       "        0.96985649]),\n",
       " 'mean_test_rmse': array([0.97748138, 0.98585726, 0.96361002, 0.97345873, 0.96584365,\n",
       "        0.97541599, 0.9585268 , 0.96884058, 0.96157294, 0.9715373 ,\n",
       "        0.95699916, 0.96745484, 0.97755776, 0.98587507, 0.96363629,\n",
       "        0.97347632, 0.96587202, 0.97543003, 0.95853791, 0.9688451 ,\n",
       "        0.9615914 , 0.97154417, 0.95700947, 0.96745712, 0.9776626 ,\n",
       "        0.98590149, 0.9636721 , 0.97347204, 0.96589722, 0.97544036,\n",
       "        0.95855885, 0.96884826, 0.96161335, 0.97155711, 0.95699967,\n",
       "        0.96746282]),\n",
       " 'std_test_rmse': array([0.0012223 , 0.00145969, 0.00139949, 0.00160764, 0.00143132,\n",
       "        0.00165747, 0.00156357, 0.00172161, 0.00157041, 0.00176947,\n",
       "        0.00160368, 0.00176628, 0.00120242, 0.00139066, 0.0014098 ,\n",
       "        0.0015911 , 0.00145105, 0.00166011, 0.00155655, 0.00172499,\n",
       "        0.0015551 , 0.00176599, 0.00160499, 0.00176631, 0.00123951,\n",
       "        0.00141232, 0.00141491, 0.00161281, 0.00142679, 0.00168543,\n",
       "        0.00156816, 0.00172199, 0.00153888, 0.00176217, 0.00160136,\n",
       "        0.00176356]),\n",
       " 'rank_test_rmse': array([31, 34, 10, 25, 13, 28,  4, 19,  7, 22,  1, 16, 32, 35, 11, 27, 14,\n",
       "        29,  5, 20,  8, 23,  3, 17, 33, 36, 12, 26, 15, 30,  6, 21,  9, 24,\n",
       "         2, 18], dtype=int64),\n",
       " 'split0_test_mae': array([0.78537384, 0.79570918, 0.77198504, 0.7835185 , 0.77397026,\n",
       "        0.78530384, 0.76711798, 0.77918642, 0.76981429, 0.78154568,\n",
       "        0.76571448, 0.77799912, 0.78543535, 0.7957965 , 0.77199453,\n",
       "        0.7835374 , 0.77393833, 0.78531097, 0.76712066, 0.77919185,\n",
       "        0.76984987, 0.78155451, 0.76572658, 0.77800124, 0.78550058,\n",
       "        0.79582999, 0.77199585, 0.78353917, 0.77400103, 0.78530767,\n",
       "        0.76713933, 0.77919518, 0.76985149, 0.78156242, 0.76572855,\n",
       "        0.778005  ]),\n",
       " 'split1_test_mae': array([0.78528822, 0.79600194, 0.77159673, 0.7836366 , 0.7736962 ,\n",
       "        0.78547532, 0.76657601, 0.7791116 , 0.76947881, 0.78165174,\n",
       "        0.7650922 , 0.77783814, 0.7853516 , 0.79605383, 0.77160527,\n",
       "        0.78365123, 0.77373937, 0.78549234, 0.76659325, 0.77911154,\n",
       "        0.76949528, 0.78165544, 0.76509232, 0.77784094, 0.78536195,\n",
       "        0.79604357, 0.77168413, 0.78362665, 0.77374138, 0.78547796,\n",
       "        0.76661216, 0.77912617, 0.76954622, 0.78168794, 0.76509645,\n",
       "        0.77785162]),\n",
       " 'split2_test_mae': array([0.78597577, 0.79677743, 0.77353705, 0.78530773, 0.77537161,\n",
       "        0.78690018, 0.76928965, 0.78141724, 0.77178638, 0.78357429,\n",
       "        0.76797878, 0.78028362, 0.78599906, 0.79672258, 0.77358527,\n",
       "        0.78529697, 0.77539356, 0.7869127 , 0.76928606, 0.7814226 ,\n",
       "        0.77177273, 0.78357181, 0.76798307, 0.78028682, 0.78617961,\n",
       "        0.79674956, 0.77362438, 0.78531887, 0.7753976 , 0.78697946,\n",
       "        0.76932317, 0.7814203 , 0.77176441, 0.78358671, 0.76797759,\n",
       "        0.78028736]),\n",
       " 'mean_test_mae': array([0.78554594, 0.79616285, 0.77237294, 0.78415428, 0.77434602,\n",
       "        0.78589311, 0.76766121, 0.77990509, 0.77035983, 0.78225724,\n",
       "        0.76626182, 0.77870696, 0.78559534, 0.79619097, 0.77239502,\n",
       "        0.78416187, 0.77435708, 0.78590534, 0.76766666, 0.77990866,\n",
       "        0.77037263, 0.78226059, 0.76626732, 0.77870967, 0.78568071,\n",
       "        0.79620771, 0.77243479, 0.78416156, 0.77438   , 0.7859217 ,\n",
       "        0.76769156, 0.77991388, 0.77038737, 0.78227902, 0.76626753,\n",
       "        0.77871466]),\n",
       " 'std_test_mae': array([0.00030594, 0.00045071, 0.00083827, 0.00081704, 0.00073378,\n",
       "        0.00071554, 0.00117255, 0.00106969, 0.00101798, 0.0009323 ,\n",
       "        0.00124037, 0.0011168 , 0.00028752, 0.00039031, 0.0008565 ,\n",
       "        0.00080398, 0.00073738, 0.00071615, 0.00116516, 0.00107102,\n",
       "        0.00100055, 0.00092809, 0.00124054, 0.00111713, 0.00035729,\n",
       "        0.00039294, 0.00085074, 0.00081912, 0.00072731, 0.00075117,\n",
       "        0.00117363, 0.00106557, 0.00098165, 0.00092609, 0.00123642,\n",
       "        0.00111383]),\n",
       " 'rank_test_mae': array([28, 34, 10, 25, 13, 31,  4, 19,  7, 22,  1, 16, 29, 35, 11, 27, 14,\n",
       "        32,  5, 20,  8, 23,  2, 17, 30, 36, 12, 26, 15, 33,  6, 21,  9, 24,\n",
       "         3, 18], dtype=int64),\n",
       " 'mean_fit_time': array([1.16878653, 0.94388811, 0.97605062, 0.92405732, 1.89056834,\n",
       "        1.99588275, 1.85417978, 1.86468474, 2.91072059, 3.05765335,\n",
       "        3.14805969, 3.0381523 , 1.09372767, 1.1037697 , 1.17023174,\n",
       "        1.02941346, 2.17649349, 2.1610721 , 2.13867315, 2.45229872,\n",
       "        3.25970213, 3.13851166, 3.30875429, 3.14461009, 1.34575383,\n",
       "        1.24124018, 1.44672974, 1.37375053, 2.63819639, 2.68851487,\n",
       "        2.60402838, 2.65410781, 3.91008258, 4.33457232, 3.91328247,\n",
       "        3.89928873]),\n",
       " 'std_fit_time': array([0.04516565, 0.02865078, 0.05498495, 0.01439383, 0.06632975,\n",
       "        0.05431489, 0.07048508, 0.09096308, 0.03120035, 0.1275729 ,\n",
       "        0.23688728, 0.19587229, 0.06937729, 0.02733351, 0.09733059,\n",
       "        0.01091024, 0.1304254 , 0.07166093, 0.05478769, 0.21458528,\n",
       "        0.05167811, 0.11614296, 0.12729065, 0.06959114, 0.05989775,\n",
       "        0.05323151, 0.10178827, 0.20059037, 0.07510537, 0.01410551,\n",
       "        0.08453481, 0.08954893, 0.05026925, 0.15903958, 0.04516606,\n",
       "        0.11228528]),\n",
       " 'mean_test_time': array([0.38203136, 0.33464281, 0.37509489, 0.32264288, 0.34906419,\n",
       "        0.40528989, 0.37515601, 0.40405226, 0.33580279, 0.4058249 ,\n",
       "        0.43774954, 0.35847489, 0.36725863, 0.3750058 , 0.38853057,\n",
       "        0.36373639, 0.38622467, 0.36577948, 0.37854171, 0.43817226,\n",
       "        0.38822587, 0.38721053, 0.39267429, 0.36458937, 0.34801165,\n",
       "        0.39656242, 0.43770742, 0.37045844, 0.40756265, 0.34291395,\n",
       "        0.36695282, 0.41860588, 0.35420267, 0.38945206, 0.37008683,\n",
       "        0.37768571]),\n",
       " 'std_test_time': array([0.10758383, 0.05198716, 0.04425956, 0.04854365, 0.05148538,\n",
       "        0.03830256, 0.05528626, 0.04644083, 0.03930999, 0.01328162,\n",
       "        0.11454907, 0.06580026, 0.0751381 , 0.06629323, 0.06059499,\n",
       "        0.03021355, 0.0620049 , 0.05080345, 0.08756626, 0.0828981 ,\n",
       "        0.05516153, 0.0595641 , 0.02947752, 0.05155779, 0.04094738,\n",
       "        0.06847926, 0.04621531, 0.07707576, 0.02352906, 0.05520691,\n",
       "        0.05601573, 0.05393879, 0.05890602, 0.08672197, 0.05284026,\n",
       "        0.04334691]),\n",
       " 'params': [{'n_factors': 5, 'n_epochs': 10, 'lr_all': 0.002, 'reg_all': 0.4},\n",
       "  {'n_factors': 5, 'n_epochs': 10, 'lr_all': 0.002, 'reg_all': 0.6},\n",
       "  {'n_factors': 5, 'n_epochs': 10, 'lr_all': 0.005, 'reg_all': 0.4},\n",
       "  {'n_factors': 5, 'n_epochs': 10, 'lr_all': 0.005, 'reg_all': 0.6},\n",
       "  {'n_factors': 5, 'n_epochs': 20, 'lr_all': 0.002, 'reg_all': 0.4},\n",
       "  {'n_factors': 5, 'n_epochs': 20, 'lr_all': 0.002, 'reg_all': 0.6},\n",
       "  {'n_factors': 5, 'n_epochs': 20, 'lr_all': 0.005, 'reg_all': 0.4},\n",
       "  {'n_factors': 5, 'n_epochs': 20, 'lr_all': 0.005, 'reg_all': 0.6},\n",
       "  {'n_factors': 5, 'n_epochs': 30, 'lr_all': 0.002, 'reg_all': 0.4},\n",
       "  {'n_factors': 5, 'n_epochs': 30, 'lr_all': 0.002, 'reg_all': 0.6},\n",
       "  {'n_factors': 5, 'n_epochs': 30, 'lr_all': 0.005, 'reg_all': 0.4},\n",
       "  {'n_factors': 5, 'n_epochs': 30, 'lr_all': 0.005, 'reg_all': 0.6},\n",
       "  {'n_factors': 10, 'n_epochs': 10, 'lr_all': 0.002, 'reg_all': 0.4},\n",
       "  {'n_factors': 10, 'n_epochs': 10, 'lr_all': 0.002, 'reg_all': 0.6},\n",
       "  {'n_factors': 10, 'n_epochs': 10, 'lr_all': 0.005, 'reg_all': 0.4},\n",
       "  {'n_factors': 10, 'n_epochs': 10, 'lr_all': 0.005, 'reg_all': 0.6},\n",
       "  {'n_factors': 10, 'n_epochs': 20, 'lr_all': 0.002, 'reg_all': 0.4},\n",
       "  {'n_factors': 10, 'n_epochs': 20, 'lr_all': 0.002, 'reg_all': 0.6},\n",
       "  {'n_factors': 10, 'n_epochs': 20, 'lr_all': 0.005, 'reg_all': 0.4},\n",
       "  {'n_factors': 10, 'n_epochs': 20, 'lr_all': 0.005, 'reg_all': 0.6},\n",
       "  {'n_factors': 10, 'n_epochs': 30, 'lr_all': 0.002, 'reg_all': 0.4},\n",
       "  {'n_factors': 10, 'n_epochs': 30, 'lr_all': 0.002, 'reg_all': 0.6},\n",
       "  {'n_factors': 10, 'n_epochs': 30, 'lr_all': 0.005, 'reg_all': 0.4},\n",
       "  {'n_factors': 10, 'n_epochs': 30, 'lr_all': 0.005, 'reg_all': 0.6},\n",
       "  {'n_factors': 20, 'n_epochs': 10, 'lr_all': 0.002, 'reg_all': 0.4},\n",
       "  {'n_factors': 20, 'n_epochs': 10, 'lr_all': 0.002, 'reg_all': 0.6},\n",
       "  {'n_factors': 20, 'n_epochs': 10, 'lr_all': 0.005, 'reg_all': 0.4},\n",
       "  {'n_factors': 20, 'n_epochs': 10, 'lr_all': 0.005, 'reg_all': 0.6},\n",
       "  {'n_factors': 20, 'n_epochs': 20, 'lr_all': 0.002, 'reg_all': 0.4},\n",
       "  {'n_factors': 20, 'n_epochs': 20, 'lr_all': 0.002, 'reg_all': 0.6},\n",
       "  {'n_factors': 20, 'n_epochs': 20, 'lr_all': 0.005, 'reg_all': 0.4},\n",
       "  {'n_factors': 20, 'n_epochs': 20, 'lr_all': 0.005, 'reg_all': 0.6},\n",
       "  {'n_factors': 20, 'n_epochs': 30, 'lr_all': 0.002, 'reg_all': 0.4},\n",
       "  {'n_factors': 20, 'n_epochs': 30, 'lr_all': 0.002, 'reg_all': 0.6},\n",
       "  {'n_factors': 20, 'n_epochs': 30, 'lr_all': 0.005, 'reg_all': 0.4},\n",
       "  {'n_factors': 20, 'n_epochs': 30, 'lr_all': 0.005, 'reg_all': 0.6}],\n",
       " 'param_n_factors': [5,\n",
       "  5,\n",
       "  5,\n",
       "  5,\n",
       "  5,\n",
       "  5,\n",
       "  5,\n",
       "  5,\n",
       "  5,\n",
       "  5,\n",
       "  5,\n",
       "  5,\n",
       "  10,\n",
       "  10,\n",
       "  10,\n",
       "  10,\n",
       "  10,\n",
       "  10,\n",
       "  10,\n",
       "  10,\n",
       "  10,\n",
       "  10,\n",
       "  10,\n",
       "  10,\n",
       "  20,\n",
       "  20,\n",
       "  20,\n",
       "  20,\n",
       "  20,\n",
       "  20,\n",
       "  20,\n",
       "  20,\n",
       "  20,\n",
       "  20,\n",
       "  20,\n",
       "  20],\n",
       " 'param_n_epochs': [10,\n",
       "  10,\n",
       "  10,\n",
       "  10,\n",
       "  20,\n",
       "  20,\n",
       "  20,\n",
       "  20,\n",
       "  30,\n",
       "  30,\n",
       "  30,\n",
       "  30,\n",
       "  10,\n",
       "  10,\n",
       "  10,\n",
       "  10,\n",
       "  20,\n",
       "  20,\n",
       "  20,\n",
       "  20,\n",
       "  30,\n",
       "  30,\n",
       "  30,\n",
       "  30,\n",
       "  10,\n",
       "  10,\n",
       "  10,\n",
       "  10,\n",
       "  20,\n",
       "  20,\n",
       "  20,\n",
       "  20,\n",
       "  30,\n",
       "  30,\n",
       "  30,\n",
       "  30],\n",
       " 'param_lr_all': [0.002,\n",
       "  0.002,\n",
       "  0.005,\n",
       "  0.005,\n",
       "  0.002,\n",
       "  0.002,\n",
       "  0.005,\n",
       "  0.005,\n",
       "  0.002,\n",
       "  0.002,\n",
       "  0.005,\n",
       "  0.005,\n",
       "  0.002,\n",
       "  0.002,\n",
       "  0.005,\n",
       "  0.005,\n",
       "  0.002,\n",
       "  0.002,\n",
       "  0.005,\n",
       "  0.005,\n",
       "  0.002,\n",
       "  0.002,\n",
       "  0.005,\n",
       "  0.005,\n",
       "  0.002,\n",
       "  0.002,\n",
       "  0.005,\n",
       "  0.005,\n",
       "  0.002,\n",
       "  0.002,\n",
       "  0.005,\n",
       "  0.005,\n",
       "  0.002,\n",
       "  0.002,\n",
       "  0.005,\n",
       "  0.005],\n",
       " 'param_reg_all': [0.4,\n",
       "  0.6,\n",
       "  0.4,\n",
       "  0.6,\n",
       "  0.4,\n",
       "  0.6,\n",
       "  0.4,\n",
       "  0.6,\n",
       "  0.4,\n",
       "  0.6,\n",
       "  0.4,\n",
       "  0.6,\n",
       "  0.4,\n",
       "  0.6,\n",
       "  0.4,\n",
       "  0.6,\n",
       "  0.4,\n",
       "  0.6,\n",
       "  0.4,\n",
       "  0.6,\n",
       "  0.4,\n",
       "  0.6,\n",
       "  0.4,\n",
       "  0.6,\n",
       "  0.4,\n",
       "  0.6,\n",
       "  0.4,\n",
       "  0.6,\n",
       "  0.4,\n",
       "  0.6,\n",
       "  0.4,\n",
       "  0.6,\n",
       "  0.4,\n",
       "  0.6,\n",
       "  0.4,\n",
       "  0.6]}"
      ]
     },
     "execution_count": 26,
     "metadata": {},
     "output_type": "execute_result"
    }
   ],
   "source": [
    "# The cv_results attribute has all the needed information \n",
    "gs.cv_results"
   ]
  },
  {
   "cell_type": "markdown",
   "metadata": {},
   "source": [
    "---\n",
    "<a href=\"https://ansegura7.github.io/RS_Surprise/\">&laquo; Home</a>"
   ]
  }
 ],
 "metadata": {
  "kernelspec": {
   "display_name": "Python 3",
   "language": "python",
   "name": "python3"
  },
  "language_info": {
   "codemirror_mode": {
    "name": "ipython",
    "version": 3
   },
   "file_extension": ".py",
   "mimetype": "text/x-python",
   "name": "python",
   "nbconvert_exporter": "python",
   "pygments_lexer": "ipython3",
   "version": "3.6.8"
  }
 },
 "nbformat": 4,
 "nbformat_minor": 2
}
